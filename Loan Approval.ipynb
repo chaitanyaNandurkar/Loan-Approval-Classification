{
 "cells": [
  {
   "cell_type": "markdown",
   "metadata": {},
   "source": [
    "# Loan Approval Prediction\n",
    "\n",
    "### Project is a Part of Hackathon by [Analytics Vidhya](https://datahack.analyticsvidhya.com/contest/practice-problem-loan-prediction-iii/).\n",
    "\n",
    "### Evaluation Metric is Accuracy.\n",
    "\n",
    "### [Data Sets](https://datahack.analyticsvidhya.com/contest/practice-problem-loan-prediction-iii/#ProblemStatement) : Train and Test Files from Analytics Vidhya Hackathon.\n",
    "\n",
    "### Data \n",
    "\n",
    "<table><tr><td><img height=\"480\" width=\"640\" src=\"Loan Approval.png\"></td></tr></table>\n",
    "\n",
    "### Important Features for Loan Approval Prediction \n",
    "\n",
    "1. **Education : High Level of Education - High Chance of Loan Approval**\n",
    "\n",
    "2. **Income of Applicant : High Income - High Chance of Loan Approval**\n",
    "\n",
    "3. **Loan Amount : Low Loan Amount - High Chance of Loan Approval**\n",
    "\n",
    "4. **Loan Term : Short Loan Term - High Chance of Loan Approval**\n",
    "\n",
    "5. **Credit History : Good Credit Score - High Chance of Loan Approval**\n",
    "***\n",
    "### Flow of Project :\n",
    "\n",
    "1. **[Exploratory Data Analysis](#EDA)**\n",
    "\n",
    "2. **[Data Visualization](#DV)**\n",
    "\n",
    "3. **[Data Preprocessing](#DP)**\n",
    "\n",
    "4. **[Data Modelling and Evaluation](#DME)**\n",
    "\n",
    "5. **[Conclusion](#CON)**"
   ]
  },
  {
   "cell_type": "markdown",
   "metadata": {},
   "source": [
    "***\n",
    "**Import Libraries**"
   ]
  },
  {
   "cell_type": "code",
   "execution_count": 1,
   "metadata": {},
   "outputs": [],
   "source": [
    "import numpy as np\n",
    "import pandas as pd\n",
    "import matplotlib.pyplot as plt\n",
    "import seaborn as sns"
   ]
  },
  {
   "cell_type": "markdown",
   "metadata": {},
   "source": [
    "**Import Data Set**"
   ]
  },
  {
   "cell_type": "code",
   "execution_count": 2,
   "metadata": {},
   "outputs": [],
   "source": [
    "Train = pd.read_csv(\"Loan Approval Train.csv\")\n",
    "\n",
    "Test = pd.read_csv(\"Loan Approval Test.csv\")"
   ]
  },
  {
   "cell_type": "markdown",
   "metadata": {},
   "source": [
    "# <a name=\"EDA\">Exploratory Data Analysis</a>\n",
    "\n",
    "***\n",
    "\n",
    "**Train Data Set**"
   ]
  },
  {
   "cell_type": "code",
   "execution_count": 3,
   "metadata": {},
   "outputs": [
    {
     "data": {
      "text/html": [
       "<div>\n",
       "<style scoped>\n",
       "    .dataframe tbody tr th:only-of-type {\n",
       "        vertical-align: middle;\n",
       "    }\n",
       "\n",
       "    .dataframe tbody tr th {\n",
       "        vertical-align: top;\n",
       "    }\n",
       "\n",
       "    .dataframe thead th {\n",
       "        text-align: right;\n",
       "    }\n",
       "</style>\n",
       "<table border=\"1\" class=\"dataframe\">\n",
       "  <thead>\n",
       "    <tr style=\"text-align: right;\">\n",
       "      <th></th>\n",
       "      <th>Loan_ID</th>\n",
       "      <th>Gender</th>\n",
       "      <th>Married</th>\n",
       "      <th>Dependents</th>\n",
       "      <th>Education</th>\n",
       "      <th>Self_Employed</th>\n",
       "      <th>ApplicantIncome</th>\n",
       "      <th>CoapplicantIncome</th>\n",
       "      <th>LoanAmount</th>\n",
       "      <th>Loan_Amount_Term</th>\n",
       "      <th>Credit_History</th>\n",
       "      <th>Property_Area</th>\n",
       "      <th>Loan_Status</th>\n",
       "    </tr>\n",
       "  </thead>\n",
       "  <tbody>\n",
       "    <tr>\n",
       "      <th>0</th>\n",
       "      <td>LP001002</td>\n",
       "      <td>Male</td>\n",
       "      <td>No</td>\n",
       "      <td>0</td>\n",
       "      <td>Graduate</td>\n",
       "      <td>No</td>\n",
       "      <td>5849</td>\n",
       "      <td>0.0</td>\n",
       "      <td>NaN</td>\n",
       "      <td>360.0</td>\n",
       "      <td>1.0</td>\n",
       "      <td>Urban</td>\n",
       "      <td>Y</td>\n",
       "    </tr>\n",
       "    <tr>\n",
       "      <th>1</th>\n",
       "      <td>LP001003</td>\n",
       "      <td>Male</td>\n",
       "      <td>Yes</td>\n",
       "      <td>1</td>\n",
       "      <td>Graduate</td>\n",
       "      <td>No</td>\n",
       "      <td>4583</td>\n",
       "      <td>1508.0</td>\n",
       "      <td>128.0</td>\n",
       "      <td>360.0</td>\n",
       "      <td>1.0</td>\n",
       "      <td>Rural</td>\n",
       "      <td>N</td>\n",
       "    </tr>\n",
       "    <tr>\n",
       "      <th>2</th>\n",
       "      <td>LP001005</td>\n",
       "      <td>Male</td>\n",
       "      <td>Yes</td>\n",
       "      <td>0</td>\n",
       "      <td>Graduate</td>\n",
       "      <td>Yes</td>\n",
       "      <td>3000</td>\n",
       "      <td>0.0</td>\n",
       "      <td>66.0</td>\n",
       "      <td>360.0</td>\n",
       "      <td>1.0</td>\n",
       "      <td>Urban</td>\n",
       "      <td>Y</td>\n",
       "    </tr>\n",
       "    <tr>\n",
       "      <th>3</th>\n",
       "      <td>LP001006</td>\n",
       "      <td>Male</td>\n",
       "      <td>Yes</td>\n",
       "      <td>0</td>\n",
       "      <td>Not Graduate</td>\n",
       "      <td>No</td>\n",
       "      <td>2583</td>\n",
       "      <td>2358.0</td>\n",
       "      <td>120.0</td>\n",
       "      <td>360.0</td>\n",
       "      <td>1.0</td>\n",
       "      <td>Urban</td>\n",
       "      <td>Y</td>\n",
       "    </tr>\n",
       "    <tr>\n",
       "      <th>4</th>\n",
       "      <td>LP001008</td>\n",
       "      <td>Male</td>\n",
       "      <td>No</td>\n",
       "      <td>0</td>\n",
       "      <td>Graduate</td>\n",
       "      <td>No</td>\n",
       "      <td>6000</td>\n",
       "      <td>0.0</td>\n",
       "      <td>141.0</td>\n",
       "      <td>360.0</td>\n",
       "      <td>1.0</td>\n",
       "      <td>Urban</td>\n",
       "      <td>Y</td>\n",
       "    </tr>\n",
       "  </tbody>\n",
       "</table>\n",
       "</div>"
      ],
      "text/plain": [
       "    Loan_ID Gender Married Dependents     Education Self_Employed  \\\n",
       "0  LP001002   Male      No          0      Graduate            No   \n",
       "1  LP001003   Male     Yes          1      Graduate            No   \n",
       "2  LP001005   Male     Yes          0      Graduate           Yes   \n",
       "3  LP001006   Male     Yes          0  Not Graduate            No   \n",
       "4  LP001008   Male      No          0      Graduate            No   \n",
       "\n",
       "   ApplicantIncome  CoapplicantIncome  LoanAmount  Loan_Amount_Term  \\\n",
       "0             5849                0.0         NaN             360.0   \n",
       "1             4583             1508.0       128.0             360.0   \n",
       "2             3000                0.0        66.0             360.0   \n",
       "3             2583             2358.0       120.0             360.0   \n",
       "4             6000                0.0       141.0             360.0   \n",
       "\n",
       "   Credit_History Property_Area Loan_Status  \n",
       "0             1.0         Urban           Y  \n",
       "1             1.0         Rural           N  \n",
       "2             1.0         Urban           Y  \n",
       "3             1.0         Urban           Y  \n",
       "4             1.0         Urban           Y  "
      ]
     },
     "execution_count": 3,
     "metadata": {},
     "output_type": "execute_result"
    }
   ],
   "source": [
    "Train.head()"
   ]
  },
  {
   "cell_type": "markdown",
   "metadata": {},
   "source": [
    "**Test Data Set**"
   ]
  },
  {
   "cell_type": "code",
   "execution_count": 4,
   "metadata": {},
   "outputs": [
    {
     "data": {
      "text/html": [
       "<div>\n",
       "<style scoped>\n",
       "    .dataframe tbody tr th:only-of-type {\n",
       "        vertical-align: middle;\n",
       "    }\n",
       "\n",
       "    .dataframe tbody tr th {\n",
       "        vertical-align: top;\n",
       "    }\n",
       "\n",
       "    .dataframe thead th {\n",
       "        text-align: right;\n",
       "    }\n",
       "</style>\n",
       "<table border=\"1\" class=\"dataframe\">\n",
       "  <thead>\n",
       "    <tr style=\"text-align: right;\">\n",
       "      <th></th>\n",
       "      <th>Loan_ID</th>\n",
       "      <th>Gender</th>\n",
       "      <th>Married</th>\n",
       "      <th>Dependents</th>\n",
       "      <th>Education</th>\n",
       "      <th>Self_Employed</th>\n",
       "      <th>ApplicantIncome</th>\n",
       "      <th>CoapplicantIncome</th>\n",
       "      <th>LoanAmount</th>\n",
       "      <th>Loan_Amount_Term</th>\n",
       "      <th>Credit_History</th>\n",
       "      <th>Property_Area</th>\n",
       "    </tr>\n",
       "  </thead>\n",
       "  <tbody>\n",
       "    <tr>\n",
       "      <th>0</th>\n",
       "      <td>LP001015</td>\n",
       "      <td>Male</td>\n",
       "      <td>Yes</td>\n",
       "      <td>0</td>\n",
       "      <td>Graduate</td>\n",
       "      <td>No</td>\n",
       "      <td>5720</td>\n",
       "      <td>0</td>\n",
       "      <td>110.0</td>\n",
       "      <td>360.0</td>\n",
       "      <td>1.0</td>\n",
       "      <td>Urban</td>\n",
       "    </tr>\n",
       "    <tr>\n",
       "      <th>1</th>\n",
       "      <td>LP001022</td>\n",
       "      <td>Male</td>\n",
       "      <td>Yes</td>\n",
       "      <td>1</td>\n",
       "      <td>Graduate</td>\n",
       "      <td>No</td>\n",
       "      <td>3076</td>\n",
       "      <td>1500</td>\n",
       "      <td>126.0</td>\n",
       "      <td>360.0</td>\n",
       "      <td>1.0</td>\n",
       "      <td>Urban</td>\n",
       "    </tr>\n",
       "    <tr>\n",
       "      <th>2</th>\n",
       "      <td>LP001031</td>\n",
       "      <td>Male</td>\n",
       "      <td>Yes</td>\n",
       "      <td>2</td>\n",
       "      <td>Graduate</td>\n",
       "      <td>No</td>\n",
       "      <td>5000</td>\n",
       "      <td>1800</td>\n",
       "      <td>208.0</td>\n",
       "      <td>360.0</td>\n",
       "      <td>1.0</td>\n",
       "      <td>Urban</td>\n",
       "    </tr>\n",
       "    <tr>\n",
       "      <th>3</th>\n",
       "      <td>LP001035</td>\n",
       "      <td>Male</td>\n",
       "      <td>Yes</td>\n",
       "      <td>2</td>\n",
       "      <td>Graduate</td>\n",
       "      <td>No</td>\n",
       "      <td>2340</td>\n",
       "      <td>2546</td>\n",
       "      <td>100.0</td>\n",
       "      <td>360.0</td>\n",
       "      <td>NaN</td>\n",
       "      <td>Urban</td>\n",
       "    </tr>\n",
       "    <tr>\n",
       "      <th>4</th>\n",
       "      <td>LP001051</td>\n",
       "      <td>Male</td>\n",
       "      <td>No</td>\n",
       "      <td>0</td>\n",
       "      <td>Not Graduate</td>\n",
       "      <td>No</td>\n",
       "      <td>3276</td>\n",
       "      <td>0</td>\n",
       "      <td>78.0</td>\n",
       "      <td>360.0</td>\n",
       "      <td>1.0</td>\n",
       "      <td>Urban</td>\n",
       "    </tr>\n",
       "  </tbody>\n",
       "</table>\n",
       "</div>"
      ],
      "text/plain": [
       "    Loan_ID Gender Married Dependents     Education Self_Employed  \\\n",
       "0  LP001015   Male     Yes          0      Graduate            No   \n",
       "1  LP001022   Male     Yes          1      Graduate            No   \n",
       "2  LP001031   Male     Yes          2      Graduate            No   \n",
       "3  LP001035   Male     Yes          2      Graduate            No   \n",
       "4  LP001051   Male      No          0  Not Graduate            No   \n",
       "\n",
       "   ApplicantIncome  CoapplicantIncome  LoanAmount  Loan_Amount_Term  \\\n",
       "0             5720                  0       110.0             360.0   \n",
       "1             3076               1500       126.0             360.0   \n",
       "2             5000               1800       208.0             360.0   \n",
       "3             2340               2546       100.0             360.0   \n",
       "4             3276                  0        78.0             360.0   \n",
       "\n",
       "   Credit_History Property_Area  \n",
       "0             1.0         Urban  \n",
       "1             1.0         Urban  \n",
       "2             1.0         Urban  \n",
       "3             NaN         Urban  \n",
       "4             1.0         Urban  "
      ]
     },
     "execution_count": 4,
     "metadata": {},
     "output_type": "execute_result"
    }
   ],
   "source": [
    "Test.head()"
   ]
  },
  {
   "cell_type": "markdown",
   "metadata": {},
   "source": [
    "**Information of Train Data Set**"
   ]
  },
  {
   "cell_type": "code",
   "execution_count": 5,
   "metadata": {},
   "outputs": [
    {
     "name": "stdout",
     "output_type": "stream",
     "text": [
      "<class 'pandas.core.frame.DataFrame'>\n",
      "RangeIndex: 614 entries, 0 to 613\n",
      "Data columns (total 13 columns):\n",
      " #   Column             Non-Null Count  Dtype  \n",
      "---  ------             --------------  -----  \n",
      " 0   Loan_ID            614 non-null    object \n",
      " 1   Gender             601 non-null    object \n",
      " 2   Married            611 non-null    object \n",
      " 3   Dependents         599 non-null    object \n",
      " 4   Education          614 non-null    object \n",
      " 5   Self_Employed      582 non-null    object \n",
      " 6   ApplicantIncome    614 non-null    int64  \n",
      " 7   CoapplicantIncome  614 non-null    float64\n",
      " 8   LoanAmount         592 non-null    float64\n",
      " 9   Loan_Amount_Term   600 non-null    float64\n",
      " 10  Credit_History     564 non-null    float64\n",
      " 11  Property_Area      614 non-null    object \n",
      " 12  Loan_Status        614 non-null    object \n",
      "dtypes: float64(4), int64(1), object(8)\n",
      "memory usage: 62.5+ KB\n",
      "None\n"
     ]
    }
   ],
   "source": [
    "print(Train.info())"
   ]
  },
  {
   "cell_type": "markdown",
   "metadata": {},
   "source": [
    "**Information Gained:** \n",
    "\n",
    "1. Train Data Set consists of 614 Rows and 13 Columns.\n",
    "2. Train Data Set consist of Missing Data.\n",
    "3. Data Types of Each Column in Train Data Set.\n",
    "4. Loan Status is the Traget Variable.\n",
    "***\n",
    "**Information of Test Data Set**"
   ]
  },
  {
   "cell_type": "code",
   "execution_count": 6,
   "metadata": {},
   "outputs": [
    {
     "name": "stdout",
     "output_type": "stream",
     "text": [
      "<class 'pandas.core.frame.DataFrame'>\n",
      "RangeIndex: 367 entries, 0 to 366\n",
      "Data columns (total 12 columns):\n",
      " #   Column             Non-Null Count  Dtype  \n",
      "---  ------             --------------  -----  \n",
      " 0   Loan_ID            367 non-null    object \n",
      " 1   Gender             356 non-null    object \n",
      " 2   Married            367 non-null    object \n",
      " 3   Dependents         357 non-null    object \n",
      " 4   Education          367 non-null    object \n",
      " 5   Self_Employed      344 non-null    object \n",
      " 6   ApplicantIncome    367 non-null    int64  \n",
      " 7   CoapplicantIncome  367 non-null    int64  \n",
      " 8   LoanAmount         362 non-null    float64\n",
      " 9   Loan_Amount_Term   361 non-null    float64\n",
      " 10  Credit_History     338 non-null    float64\n",
      " 11  Property_Area      367 non-null    object \n",
      "dtypes: float64(3), int64(2), object(7)\n",
      "memory usage: 34.5+ KB\n",
      "None\n"
     ]
    }
   ],
   "source": [
    "print(Test.info())"
   ]
  },
  {
   "cell_type": "markdown",
   "metadata": {},
   "source": [
    "**Information Gained :**\n",
    "\n",
    "1. Test Data Set consists of 367 Rows and 12 Columns.\n",
    "2. Target Variable is Absent in Test Data Set.\n",
    "3. Test Data Set consist of Missing Data.\n",
    "4. Data Types of Each Column in the Test Data Set."
   ]
  },
  {
   "cell_type": "markdown",
   "metadata": {},
   "source": [
    "**Train Data Set and Test Data Set Ratio**"
   ]
  },
  {
   "cell_type": "code",
   "execution_count": 7,
   "metadata": {},
   "outputs": [
    {
     "name": "stdout",
     "output_type": "stream",
     "text": [
      "Train Data Set : 62.59%\n",
      "\n",
      "Train Data Set : 37.41%\n"
     ]
    }
   ],
   "source": [
    "print(f\"Train Data Set : {len(Train) / (len(Train) + len(Test))*100:.2f}%\")\n",
    "print()\n",
    "print(f\"Train Data Set : {len(Test) / (len(Train) + len(Test))*100:.2f}%\")"
   ]
  },
  {
   "cell_type": "markdown",
   "metadata": {},
   "source": [
    "**Variables of Object Data Type**"
   ]
  },
  {
   "cell_type": "code",
   "execution_count": 8,
   "metadata": {},
   "outputs": [
    {
     "data": {
      "text/html": [
       "<div>\n",
       "<style scoped>\n",
       "    .dataframe tbody tr th:only-of-type {\n",
       "        vertical-align: middle;\n",
       "    }\n",
       "\n",
       "    .dataframe tbody tr th {\n",
       "        vertical-align: top;\n",
       "    }\n",
       "\n",
       "    .dataframe thead th {\n",
       "        text-align: right;\n",
       "    }\n",
       "</style>\n",
       "<table border=\"1\" class=\"dataframe\">\n",
       "  <thead>\n",
       "    <tr style=\"text-align: right;\">\n",
       "      <th></th>\n",
       "      <th>Loan_ID</th>\n",
       "      <th>Gender</th>\n",
       "      <th>Married</th>\n",
       "      <th>Dependents</th>\n",
       "      <th>Education</th>\n",
       "      <th>Self_Employed</th>\n",
       "      <th>Property_Area</th>\n",
       "      <th>Loan_Status</th>\n",
       "    </tr>\n",
       "  </thead>\n",
       "  <tbody>\n",
       "    <tr>\n",
       "      <th>0</th>\n",
       "      <td>LP001002</td>\n",
       "      <td>Male</td>\n",
       "      <td>No</td>\n",
       "      <td>0</td>\n",
       "      <td>Graduate</td>\n",
       "      <td>No</td>\n",
       "      <td>Urban</td>\n",
       "      <td>Y</td>\n",
       "    </tr>\n",
       "    <tr>\n",
       "      <th>1</th>\n",
       "      <td>LP001003</td>\n",
       "      <td>Male</td>\n",
       "      <td>Yes</td>\n",
       "      <td>1</td>\n",
       "      <td>Graduate</td>\n",
       "      <td>No</td>\n",
       "      <td>Rural</td>\n",
       "      <td>N</td>\n",
       "    </tr>\n",
       "    <tr>\n",
       "      <th>2</th>\n",
       "      <td>LP001005</td>\n",
       "      <td>Male</td>\n",
       "      <td>Yes</td>\n",
       "      <td>0</td>\n",
       "      <td>Graduate</td>\n",
       "      <td>Yes</td>\n",
       "      <td>Urban</td>\n",
       "      <td>Y</td>\n",
       "    </tr>\n",
       "    <tr>\n",
       "      <th>3</th>\n",
       "      <td>LP001006</td>\n",
       "      <td>Male</td>\n",
       "      <td>Yes</td>\n",
       "      <td>0</td>\n",
       "      <td>Not Graduate</td>\n",
       "      <td>No</td>\n",
       "      <td>Urban</td>\n",
       "      <td>Y</td>\n",
       "    </tr>\n",
       "    <tr>\n",
       "      <th>4</th>\n",
       "      <td>LP001008</td>\n",
       "      <td>Male</td>\n",
       "      <td>No</td>\n",
       "      <td>0</td>\n",
       "      <td>Graduate</td>\n",
       "      <td>No</td>\n",
       "      <td>Urban</td>\n",
       "      <td>Y</td>\n",
       "    </tr>\n",
       "  </tbody>\n",
       "</table>\n",
       "</div>"
      ],
      "text/plain": [
       "    Loan_ID Gender Married Dependents     Education Self_Employed  \\\n",
       "0  LP001002   Male      No          0      Graduate            No   \n",
       "1  LP001003   Male     Yes          1      Graduate            No   \n",
       "2  LP001005   Male     Yes          0      Graduate           Yes   \n",
       "3  LP001006   Male     Yes          0  Not Graduate            No   \n",
       "4  LP001008   Male      No          0      Graduate            No   \n",
       "\n",
       "  Property_Area Loan_Status  \n",
       "0         Urban           Y  \n",
       "1         Rural           N  \n",
       "2         Urban           Y  \n",
       "3         Urban           Y  \n",
       "4         Urban           Y  "
      ]
     },
     "execution_count": 8,
     "metadata": {},
     "output_type": "execute_result"
    }
   ],
   "source": [
    "Train.select_dtypes(\"object\").head()"
   ]
  },
  {
   "cell_type": "markdown",
   "metadata": {},
   "source": [
    "**Variables of Numerical Data Type ( Integers and Floating Point Numbers )** "
   ]
  },
  {
   "cell_type": "code",
   "execution_count": 9,
   "metadata": {},
   "outputs": [
    {
     "data": {
      "text/html": [
       "<div>\n",
       "<style scoped>\n",
       "    .dataframe tbody tr th:only-of-type {\n",
       "        vertical-align: middle;\n",
       "    }\n",
       "\n",
       "    .dataframe tbody tr th {\n",
       "        vertical-align: top;\n",
       "    }\n",
       "\n",
       "    .dataframe thead th {\n",
       "        text-align: right;\n",
       "    }\n",
       "</style>\n",
       "<table border=\"1\" class=\"dataframe\">\n",
       "  <thead>\n",
       "    <tr style=\"text-align: right;\">\n",
       "      <th></th>\n",
       "      <th>ApplicantIncome</th>\n",
       "      <th>CoapplicantIncome</th>\n",
       "      <th>LoanAmount</th>\n",
       "      <th>Loan_Amount_Term</th>\n",
       "      <th>Credit_History</th>\n",
       "    </tr>\n",
       "  </thead>\n",
       "  <tbody>\n",
       "    <tr>\n",
       "      <th>0</th>\n",
       "      <td>5849</td>\n",
       "      <td>0.0</td>\n",
       "      <td>NaN</td>\n",
       "      <td>360.0</td>\n",
       "      <td>1.0</td>\n",
       "    </tr>\n",
       "    <tr>\n",
       "      <th>1</th>\n",
       "      <td>4583</td>\n",
       "      <td>1508.0</td>\n",
       "      <td>128.0</td>\n",
       "      <td>360.0</td>\n",
       "      <td>1.0</td>\n",
       "    </tr>\n",
       "    <tr>\n",
       "      <th>2</th>\n",
       "      <td>3000</td>\n",
       "      <td>0.0</td>\n",
       "      <td>66.0</td>\n",
       "      <td>360.0</td>\n",
       "      <td>1.0</td>\n",
       "    </tr>\n",
       "    <tr>\n",
       "      <th>3</th>\n",
       "      <td>2583</td>\n",
       "      <td>2358.0</td>\n",
       "      <td>120.0</td>\n",
       "      <td>360.0</td>\n",
       "      <td>1.0</td>\n",
       "    </tr>\n",
       "    <tr>\n",
       "      <th>4</th>\n",
       "      <td>6000</td>\n",
       "      <td>0.0</td>\n",
       "      <td>141.0</td>\n",
       "      <td>360.0</td>\n",
       "      <td>1.0</td>\n",
       "    </tr>\n",
       "  </tbody>\n",
       "</table>\n",
       "</div>"
      ],
      "text/plain": [
       "   ApplicantIncome  CoapplicantIncome  LoanAmount  Loan_Amount_Term  \\\n",
       "0             5849                0.0         NaN             360.0   \n",
       "1             4583             1508.0       128.0             360.0   \n",
       "2             3000                0.0        66.0             360.0   \n",
       "3             2583             2358.0       120.0             360.0   \n",
       "4             6000                0.0       141.0             360.0   \n",
       "\n",
       "   Credit_History  \n",
       "0             1.0  \n",
       "1             1.0  \n",
       "2             1.0  \n",
       "3             1.0  \n",
       "4             1.0  "
      ]
     },
     "execution_count": 9,
     "metadata": {},
     "output_type": "execute_result"
    }
   ],
   "source": [
    "Train.select_dtypes('number').head()"
   ]
  },
  {
   "cell_type": "markdown",
   "metadata": {},
   "source": [
    "# <a name=\"DV\">Data Visualization</a> \n",
    "\n",
    "### Univariate Analysis \n",
    "\n",
    "**Aanlyze Each Variable Individually.**\n",
    "\n",
    "### Target Variable :\n",
    "\n",
    "**Target Variable is Categorical.**\n",
    "\n",
    "**We Can Observe the Difference in Categorical Values using Bar Plot which Represents Frequency.**"
   ]
  },
  {
   "cell_type": "code",
   "execution_count": 10,
   "metadata": {},
   "outputs": [
    {
     "name": "stdout",
     "output_type": "stream",
     "text": [
      "Y    422\n",
      "N    192\n",
      "Name: Loan_Status, dtype: int64\n"
     ]
    }
   ],
   "source": [
    "print(Train[\"Loan_Status\"].value_counts())"
   ]
  },
  {
   "cell_type": "markdown",
   "metadata": {},
   "source": [
    "**Proportion of Frequency**"
   ]
  },
  {
   "cell_type": "code",
   "execution_count": 11,
   "metadata": {},
   "outputs": [
    {
     "name": "stdout",
     "output_type": "stream",
     "text": [
      "Y    68.73\n",
      "N    31.27\n",
      "Name: Loan_Status, dtype: float64\n"
     ]
    }
   ],
   "source": [
    "print(f\"{round(Train['Loan_Status'].value_counts(normalize = True,)*100,2)}\")"
   ]
  },
  {
   "cell_type": "markdown",
   "metadata": {},
   "source": [
    "### Independent Variables   \n",
    "\n",
    "**Gender**"
   ]
  },
  {
   "cell_type": "code",
   "execution_count": 12,
   "metadata": {},
   "outputs": [
    {
     "name": "stdout",
     "output_type": "stream",
     "text": [
      "Male      489\n",
      "Female    112\n",
      "Name: Gender, dtype: int64\n"
     ]
    }
   ],
   "source": [
    "print(Train[\"Gender\"].value_counts())"
   ]
  },
  {
   "cell_type": "markdown",
   "metadata": {},
   "source": [
    "**Marrital Status**"
   ]
  },
  {
   "cell_type": "code",
   "execution_count": 13,
   "metadata": {},
   "outputs": [
    {
     "name": "stdout",
     "output_type": "stream",
     "text": [
      "Yes    398\n",
      "No     213\n",
      "Name: Married, dtype: int64\n"
     ]
    }
   ],
   "source": [
    "print(Train[\"Married\"].value_counts())"
   ]
  },
  {
   "cell_type": "markdown",
   "metadata": {},
   "source": [
    "**Education**"
   ]
  },
  {
   "cell_type": "code",
   "execution_count": 14,
   "metadata": {},
   "outputs": [
    {
     "name": "stdout",
     "output_type": "stream",
     "text": [
      "Graduate        480\n",
      "Not Graduate    134\n",
      "Name: Education, dtype: int64\n"
     ]
    }
   ],
   "source": [
    "print(Train[\"Education\"].value_counts())"
   ]
  },
  {
   "cell_type": "markdown",
   "metadata": {},
   "source": [
    "**Self Employed**"
   ]
  },
  {
   "cell_type": "code",
   "execution_count": 15,
   "metadata": {},
   "outputs": [
    {
     "name": "stdout",
     "output_type": "stream",
     "text": [
      "No     500\n",
      "Yes     82\n",
      "Name: Self_Employed, dtype: int64\n"
     ]
    }
   ],
   "source": [
    "print(Train[\"Self_Employed\"].value_counts())"
   ]
  },
  {
   "cell_type": "markdown",
   "metadata": {},
   "source": [
    "**Credit History**"
   ]
  },
  {
   "cell_type": "code",
   "execution_count": 16,
   "metadata": {},
   "outputs": [
    {
     "name": "stdout",
     "output_type": "stream",
     "text": [
      "1.0    475\n",
      "0.0     89\n",
      "Name: Credit_History, dtype: int64\n"
     ]
    }
   ],
   "source": [
    "print(Train[\"Credit_History\"].value_counts())"
   ]
  },
  {
   "cell_type": "markdown",
   "metadata": {},
   "source": [
    "**Visualizing Categorical Features.**\n",
    "\n",
    "**Bar Plot is Best for Categorical Data**"
   ]
  },
  {
   "cell_type": "code",
   "execution_count": 17,
   "metadata": {},
   "outputs": [
    {
     "data": {
      "image/png": "[encoded data removed]",
      "text/plain": [
       "<Figure size 1440x720 with 6 Axes>"
      ]
     },
     "metadata": {
      "needs_background": "light"
     },
     "output_type": "display_data"
    }
   ],
   "source": [
    "plt.figure(1)\n",
    "\n",
    "Color = [\"lightblue\", \"lightpink\"]\n",
    "\n",
    "plt.subplot(231)\n",
    "Train['Loan_Status'].value_counts(normalize=True).plot.bar(figsize=(20,10), title= 'Loan Approval Status', color = Color)\n",
    "plt.xticks(rotation = 0)\n",
    "\n",
    "plt.subplot(232)\n",
    "Train['Gender'].value_counts(normalize=True).plot.bar(figsize=(20,10), title= 'Gender', color = Color)\n",
    "plt.xticks(rotation = 0)\n",
    "\n",
    "plt.subplot(233)\n",
    "Train['Married'].value_counts(normalize=True).plot.bar(title= 'Married', color = Color)\n",
    "plt.xticks(rotation = 0)\n",
    "\n",
    "plt.subplot(234)\n",
    "Train['Self_Employed'].value_counts(normalize=True).plot.bar(title= 'Self Employed', color = Color)\n",
    "plt.xticks(rotation = 0)\n",
    "\n",
    "plt.subplot(235)\n",
    "Train['Credit_History'].value_counts(normalize=True).plot.bar(title= 'Credit Score', color = Color)\n",
    "plt.xticks(rotation = 0)\n",
    "\n",
    "plt.subplot(236)\n",
    "Train['Education'].value_counts(normalize=True).plot.bar(title= 'Education', color = Color)\n",
    "plt.xticks(rotation = 0)\n",
    "\n",
    "plt.show()"
   ]
  },
  {
   "cell_type": "markdown",
   "metadata": {},
   "source": [
    "**Conclusions :**\n",
    "1. Arround 69% or Applicants get Approvals for Loan.\n",
    "2. More than 80% Applicants are Male.\n",
    "3. Almost 65% Applicants are Married.\n",
    "4. More than 15% Applicants are Self Employed.\n",
    "5. More than 80% Applicants have a Good Credit Score.\n",
    "6. Almost 80% Applicants are Graduate.\n",
    "***\n",
    "**Ordinal Data**"
   ]
  },
  {
   "cell_type": "code",
   "execution_count": 18,
   "metadata": {},
   "outputs": [
    {
     "data": {
      "image/png": "[encoded data removed]",
      "text/plain": [
       "<Figure size 1440x360 with 2 Axes>"
      ]
     },
     "metadata": {
      "needs_background": "light"
     },
     "output_type": "display_data"
    }
   ],
   "source": [
    "plt.figure(1)\n",
    "plt.subplot(121)\n",
    "\n",
    "Color1 = [\"dodgerblue\", \"orange\", \"green\", \"red\"]\n",
    "\n",
    "Color2 = [\"dodgerblue\", \"red\", \"green\"]\n",
    "\n",
    "Train['Dependents'].value_counts(normalize=True).plot.bar(figsize=(20,5), title= 'Dependents', color = Color1)\n",
    "plt.xticks(rotation = 0)\n",
    "\n",
    "plt.subplot(122)\n",
    "Train['Property_Area'].value_counts(normalize=True).plot.bar(title= 'Property Area', color = Color2)\n",
    "plt.xticks(rotation = 0)\n",
    "\n",
    "plt.show()"
   ]
  },
  {
   "cell_type": "markdown",
   "metadata": {},
   "source": [
    "**Conclusions :**\n",
    "\n",
    "1. Maximum Number of the Applicants don't have Dependents.\n",
    "2. Mostly Applicants are from Semi Urban and Urban."
   ]
  },
  {
   "cell_type": "markdown",
   "metadata": {},
   "source": [
    "### Independent Variables (Numerical)\n",
    "\n",
    "**Applicant Income Distribution**"
   ]
  },
  {
   "cell_type": "code",
   "execution_count": 19,
   "metadata": {},
   "outputs": [
    {
     "name": "stdout",
     "output_type": "stream",
     "text": [
      "Measures of Central Tendency : \n",
      "Mean of Applicant Income : 5403.46\n",
      "Median of Applicant Income : 3812.50\n",
      "\n",
      "Measure of Variability :\n",
      "Standard Deviation of Applicant Income : 6109.04\n",
      "\n",
      "Kurtosis of Applicant Income : 60.54\n"
     ]
    },
    {
     "data": {
      "image/png": "[encoded data removed]",
      "text/plain": [
       "<Figure size 1440x360 with 2 Axes>"
      ]
     },
     "metadata": {
      "needs_background": "light"
     },
     "output_type": "display_data"
    }
   ],
   "source": [
    "plt.figure(1)\n",
    "\n",
    "plt.subplot(121)\n",
    "Train[\"ApplicantIncome\"].plot.box(figsize = (20,5))\n",
    "\n",
    "plt.subplot(122)\n",
    "sns.distplot(Train[\"ApplicantIncome\"]);\n",
    "\n",
    "print(f\"Measures of Central Tendency : \")\n",
    "print(f\"Mean of Applicant Income : {Train['ApplicantIncome'].mean():.2f}\")\n",
    "print(f\"Median of Applicant Income : {Train['ApplicantIncome'].median():.2f}\")\n",
    "\n",
    "print()\n",
    "\n",
    "print(f\"Measure of Variability :\")\n",
    "print(f\"Standard Deviation of Applicant Income : {Train['ApplicantIncome'].std():.2f}\")\n",
    "\n",
    "print()\n",
    "\n",
    "print(f\"Kurtosis of Applicant Income : {Train['ApplicantIncome'].kurtosis():.2f}\")"
   ]
  },
  {
   "cell_type": "markdown",
   "metadata": {},
   "source": [
    "**Distribution of Data is more Towards Left, Distribution is Right Skewed. (Positive Skewness)**\n",
    "\n",
    "**Algorithm Works Better if the Data is Normally Distributed.**\n",
    "\n",
    "**Data is Heavily Tailed : Histogram and Kernel Density Plot is Best Way to Represent Kurtosis.**\n",
    "\n",
    "**The Boxplots Represents the Presence of Outliers Values, Data contains many Outliers.**\n",
    "\n",
    "**For Better Observation**"
   ]
  },
  {
   "cell_type": "code",
   "execution_count": 20,
   "metadata": {},
   "outputs": [
    {
     "data": {
      "image/png": "[encoded data removed]",
      "text/plain": [
       "<Figure size 432x288 with 1 Axes>"
      ]
     },
     "metadata": {
      "needs_background": "light"
     },
     "output_type": "display_data"
    }
   ],
   "source": [
    "Train.boxplot(column = 'ApplicantIncome', by = 'Education')\n",
    "plt.suptitle(\"\");"
   ]
  },
  {
   "cell_type": "markdown",
   "metadata": {},
   "source": [
    "**Graduates have High Income**\n",
    "***\n",
    "**Coapplicant Income Distribution**"
   ]
  },
  {
   "cell_type": "code",
   "execution_count": 21,
   "metadata": {},
   "outputs": [
    {
     "name": "stdout",
     "output_type": "stream",
     "text": [
      "Measures of Central Tendency : \n",
      "Mean of Coapplicant Income : 1621.25\n",
      "Median of Coapplicant Income : 1188.50\n",
      "\n",
      "Measure of Variability :\n",
      "Standard Deviation of Coapplicant Income : 2926.25\n",
      "\n",
      "Kurtosis of Coapplicant Income : 84.96\n"
     ]
    },
    {
     "data": {
      "image/png": "[encoded data removed]",
      "text/plain": [
       "<Figure size 1440x360 with 2 Axes>"
      ]
     },
     "metadata": {
      "needs_background": "light"
     },
     "output_type": "display_data"
    }
   ],
   "source": [
    "plt.figure(1)\n",
    "\n",
    "plt.subplot(121)\n",
    "Train[\"CoapplicantIncome\"].plot.box(figsize = (20,5))\n",
    "\n",
    "plt.subplot(122)\n",
    "sns.distplot(Train[\"CoapplicantIncome\"]);\n",
    "\n",
    "print(f\"Measures of Central Tendency : \")\n",
    "print(f\"Mean of Coapplicant Income : {Train['CoapplicantIncome'].mean():.2f}\")\n",
    "print(f\"Median of Coapplicant Income : {Train['CoapplicantIncome'].median():.2f}\")\n",
    "\n",
    "print()\n",
    "\n",
    "print(f\"Measure of Variability :\")\n",
    "print(f\"Standard Deviation of Coapplicant Income : {Train['CoapplicantIncome'].std():.2f}\")\n",
    "\n",
    "print()\n",
    "\n",
    "print(f\"Kurtosis of Coapplicant Income : {Train['CoapplicantIncome'].kurtosis():.2f}\")"
   ]
  },
  {
   "cell_type": "markdown",
   "metadata": {},
   "source": [
    "**Coapplicant Income is Right Skewed and consist lots of Outliers.**\n",
    "***\n",
    "**Loan Amount**"
   ]
  },
  {
   "cell_type": "code",
   "execution_count": 22,
   "metadata": {},
   "outputs": [
    {
     "name": "stdout",
     "output_type": "stream",
     "text": [
      "Measures of Central Tendency : \n",
      "Mean of Loan Amount : 146.41\n",
      "Median of Loan Amount : 128.00\n",
      "\n",
      "Measure of Variability :\n",
      "Standard Deviation of Loan Amount : 85.59\n",
      "\n",
      "Kurtosis of Loan Amount : 10.40\n"
     ]
    },
    {
     "data": {
      "image/png": "[encoded data removed]",
      "text/plain": [
       "<Figure size 1440x360 with 2 Axes>"
      ]
     },
     "metadata": {
      "needs_background": "light"
     },
     "output_type": "display_data"
    }
   ],
   "source": [
    "plt.figure(1)\n",
    "\n",
    "plt.subplot(121)\n",
    "Train[\"LoanAmount\"].plot.box(figsize = (20,5))\n",
    "\n",
    "plt.subplot(122)\n",
    "sns.distplot(Train[\"LoanAmount\"]);\n",
    "\n",
    "print(f\"Measures of Central Tendency : \")\n",
    "print(f\"Mean of Loan Amount : {Train['LoanAmount'].mean():.2f}\")\n",
    "print(f\"Median of Loan Amount : {Train['LoanAmount'].median():.2f}\")\n",
    "\n",
    "print()\n",
    "\n",
    "print(f\"Measure of Variability :\")\n",
    "print(f\"Standard Deviation of Loan Amount : {Train['LoanAmount'].std():.2f}\")\n",
    "\n",
    "print()\n",
    "\n",
    "print(f\"Kurtosis of Loan Amount : {Train['LoanAmount'].kurtosis():.2f}\")"
   ]
  },
  {
   "cell_type": "markdown",
   "metadata": {},
   "source": [
    "**Loan Amount Term**"
   ]
  },
  {
   "cell_type": "code",
   "execution_count": 23,
   "metadata": {},
   "outputs": [
    {
     "data": {
      "image/png": "[encoded data removed]",
      "text/plain": [
       "<Figure size 432x288 with 1 Axes>"
      ]
     },
     "metadata": {
      "needs_background": "light"
     },
     "output_type": "display_data"
    }
   ],
   "source": [
    "Train[\"Loan_Amount_Term\"].value_counts(normalize = True).plot.bar(title = \"Loan Amount Term\", color = Color1);"
   ]
  },
  {
   "cell_type": "markdown",
   "metadata": {},
   "source": [
    "**Around 85% of Loans are of 360 Months (30 Years)**\n",
    "\n",
    "### Bivariate Analysis\n",
    "\n",
    "**Categorical Independent Variable vs Target Variable**"
   ]
  },
  {
   "cell_type": "code",
   "execution_count": 24,
   "metadata": {},
   "outputs": [
    {
     "name": "stdout",
     "output_type": "stream",
     "text": [
      "Loan Status    N    Y\n",
      "Gender               \n",
      "Female        37   75\n",
      "Male         150  339\n"
     ]
    }
   ],
   "source": [
    "print(pd.crosstab(Train[\"Gender\"], Train[\"Loan_Status\"], colnames=['Loan Status'], dropna = True))"
   ]
  },
  {
   "cell_type": "markdown",
   "metadata": {},
   "source": [
    "**Stacked Bar Plot**\n",
    "\n",
    "**Proportion of Loan Approved or not Approved based on Gender.**"
   ]
  },
  {
   "cell_type": "code",
   "execution_count": 25,
   "metadata": {},
   "outputs": [
    {
     "data": {
      "image/png": "[encoded data removed]",
      "text/plain": [
       "<Figure size 288x288 with 1 Axes>"
      ]
     },
     "metadata": {
      "needs_background": "light"
     },
     "output_type": "display_data"
    }
   ],
   "source": [
    "Gender = pd.crosstab(Train['Gender'], Train['Loan_Status'])\n",
    "Gender.div(Gender.sum(axis = 1).astype(float), axis = 0).plot(kind=\"bar\", stacked=True, figsize=(4,4))\n",
    "plt.xlabel('Gender')\n",
    "plt.ylabel('Percentage')\n",
    "plt.xticks(rotation = 0);"
   ]
  },
  {
   "cell_type": "code",
   "execution_count": 26,
   "metadata": {},
   "outputs": [
    {
     "name": "stdout",
     "output_type": "stream",
     "text": [
      "Loan Status    N    Y\n",
      "Married              \n",
      "No            79  134\n",
      "Yes          113  285\n"
     ]
    }
   ],
   "source": [
    "print(pd.crosstab(Train['Married'], Train['Loan_Status'], colnames = ['Loan Status'], dropna = True))"
   ]
  },
  {
   "cell_type": "markdown",
   "metadata": {},
   "source": [
    "**Proportion of Loan Approved or not based on Marital Status.**"
   ]
  },
  {
   "cell_type": "code",
   "execution_count": 27,
   "metadata": {},
   "outputs": [
    {
     "data": {
      "image/png": "[encoded data removed]",
      "text/plain": [
       "<Figure size 288x288 with 1 Axes>"
      ]
     },
     "metadata": {
      "needs_background": "light"
     },
     "output_type": "display_data"
    }
   ],
   "source": [
    "Married = pd.crosstab(Train[\"Married\"],Train[\"Loan_Status\"])\n",
    "Married.div(Married.sum(axis = \"columns\").astype(float), axis = 0).plot(kind = \"bar\", stacked = True, figsize = (4,4))\n",
    "plt.xlabel(\"Married\")\n",
    "plt.ylabel(\"Percentage\")\n",
    "plt.xticks(rotation = 0);"
   ]
  },
  {
   "cell_type": "code",
   "execution_count": 28,
   "metadata": {},
   "outputs": [
    {
     "name": "stdout",
     "output_type": "stream",
     "text": [
      "Loan Status    N    Y\n",
      "Dependents           \n",
      "0            107  238\n",
      "1             36   66\n",
      "2             25   76\n",
      "3+            18   33\n"
     ]
    }
   ],
   "source": [
    "print(pd.crosstab(Train['Dependents'], Train['Loan_Status'], colnames = ['Loan Status'], dropna = True))"
   ]
  },
  {
   "cell_type": "markdown",
   "metadata": {},
   "source": [
    "**Proportion of Loan Approved or not Approved based on Dependents.**"
   ]
  },
  {
   "cell_type": "code",
   "execution_count": 29,
   "metadata": {},
   "outputs": [
    {
     "data": {
      "image/png": "[encoded data removed]",
      "text/plain": [
       "<Figure size 288x288 with 1 Axes>"
      ]
     },
     "metadata": {
      "needs_background": "light"
     },
     "output_type": "display_data"
    }
   ],
   "source": [
    "Dependents = pd.crosstab(Train['Dependents'], Train['Loan_Status'])\n",
    "Dependents.div(Dependents.sum(axis = \"columns\").astype(float), axis = 0).plot(kind = \"bar\", stacked = True, figsize = (4,4))\n",
    "plt.xlabel('Dependents')\n",
    "plt.ylabel('Percentage')\n",
    "plt.xticks(rotation = 0);"
   ]
  },
  {
   "cell_type": "code",
   "execution_count": 30,
   "metadata": {},
   "outputs": [
    {
     "name": "stdout",
     "output_type": "stream",
     "text": [
      "Loan Status     N    Y\n",
      "Education             \n",
      "Graduate      140  340\n",
      "Not Graduate   52   82\n"
     ]
    }
   ],
   "source": [
    "print(pd.crosstab(Train['Education'], Train['Loan_Status'], colnames = ['Loan Status'], dropna = True))"
   ]
  },
  {
   "cell_type": "markdown",
   "metadata": {},
   "source": [
    "**Loan Approved or not Approved based on Education.**"
   ]
  },
  {
   "cell_type": "code",
   "execution_count": 31,
   "metadata": {},
   "outputs": [
    {
     "data": {
      "image/png": "[encoded data removed]",
      "text/plain": [
       "<Figure size 288x288 with 1 Axes>"
      ]
     },
     "metadata": {
      "needs_background": "light"
     },
     "output_type": "display_data"
    }
   ],
   "source": [
    "Education = pd.crosstab(Train['Education'], Train['Loan_Status'])\n",
    "Education.div(Education.sum(axis = 'columns').astype(float), axis = 'rows').plot(kind = 'bar', stacked = True, figsize = (4,4))\n",
    "plt.xlabel('Education')\n",
    "plt.ylabel('Percentage')\n",
    "plt.xticks(rotation = 0);"
   ]
  },
  {
   "cell_type": "code",
   "execution_count": 32,
   "metadata": {},
   "outputs": [
    {
     "name": "stdout",
     "output_type": "stream",
     "text": [
      "Loan Status      N    Y\n",
      "Self Employed          \n",
      "No             157  343\n",
      "Yes             26   56\n"
     ]
    }
   ],
   "source": [
    "print(pd.crosstab(Train['Self_Employed'], Train['Loan_Status'], colnames = ['Loan Status'], rownames = ['Self Employed'], dropna = True))"
   ]
  },
  {
   "cell_type": "markdown",
   "metadata": {},
   "source": [
    "**Loan Approval based on Self Employed**"
   ]
  },
  {
   "cell_type": "code",
   "execution_count": 33,
   "metadata": {},
   "outputs": [
    {
     "data": {
      "image/png": "[encoded data removed]",
      "text/plain": [
       "<Figure size 288x288 with 1 Axes>"
      ]
     },
     "metadata": {
      "needs_background": "light"
     },
     "output_type": "display_data"
    }
   ],
   "source": [
    "SelfEmployed = pd.crosstab(Train['Self_Employed'], Train['Loan_Status'])\n",
    "SelfEmployed.div(SelfEmployed.sum(axis = 'columns').astype(float), axis = 'rows').plot(kind = 'bar', stacked = True, figsize = (4,4))\n",
    "plt.xlabel('Self Employed')\n",
    "plt.ylabel('Percentage')\n",
    "plt.xticks(rotation = 0);"
   ]
  },
  {
   "cell_type": "code",
   "execution_count": 34,
   "metadata": {},
   "outputs": [
    {
     "name": "stdout",
     "output_type": "stream",
     "text": [
      "Loan Status      N    Y\n",
      "Credit History         \n",
      "0.0             82    7\n",
      "1.0             97  378\n"
     ]
    }
   ],
   "source": [
    "print(pd.crosstab(Train['Credit_History'], Train['Loan_Status'], rownames = ['Credit History'], colnames = ['Loan Status']))"
   ]
  },
  {
   "cell_type": "markdown",
   "metadata": {},
   "source": [
    "**Loan Approved or not Approved based on Credit Score**"
   ]
  },
  {
   "cell_type": "code",
   "execution_count": 35,
   "metadata": {},
   "outputs": [
    {
     "data": {
      "image/png": "[encoded data removed]",
      "text/plain": [
       "<Figure size 288x288 with 1 Axes>"
      ]
     },
     "metadata": {
      "needs_background": "light"
     },
     "output_type": "display_data"
    }
   ],
   "source": [
    "Credit = pd.crosstab(Train['Credit_History'], Train['Loan_Status'])\n",
    "Credit.div(Credit.sum(axis = 'columns').astype(float), axis = 'rows').plot(kind = 'bar', stacked = True, figsize = (4,4))\n",
    "plt.xlabel('Credit Score')\n",
    "plt.ylabel('Percentage')\n",
    "plt.xticks(rotation = 0);"
   ]
  },
  {
   "cell_type": "code",
   "execution_count": 36,
   "metadata": {},
   "outputs": [
    {
     "name": "stdout",
     "output_type": "stream",
     "text": [
      "Loan Status     N    Y\n",
      "Property Area         \n",
      "Rural          69  110\n",
      "Semiurban      54  179\n",
      "Urban          69  133\n"
     ]
    }
   ],
   "source": [
    "print(pd.crosstab(Train['Property_Area'], Train['Loan_Status'], colnames = ['Loan Status'], rownames = ['Property Area']))"
   ]
  },
  {
   "cell_type": "markdown",
   "metadata": {},
   "source": [
    "**Loan Approved or not Approved based on Property Area**"
   ]
  },
  {
   "cell_type": "code",
   "execution_count": 37,
   "metadata": {},
   "outputs": [
    {
     "data": {
      "image/png": "[encoded data removed]",
      "text/plain": [
       "<Figure size 288x288 with 1 Axes>"
      ]
     },
     "metadata": {
      "needs_background": "light"
     },
     "output_type": "display_data"
    }
   ],
   "source": [
    "Area  = pd.crosstab(Train['Property_Area'], Train['Loan_Status'])\n",
    "Area.div(Area.sum(axis = 'columns').astype(float), axis = 'rows').plot(kind = 'bar', stacked = True, figsize = (4,4))\n",
    "plt.xlabel('Property Area')\n",
    "plt.ylabel('Percentage')\n",
    "plt.xticks(rotation = 0);"
   ]
  },
  {
   "cell_type": "markdown",
   "metadata": {},
   "source": [
    "**Correlation between Features.**"
   ]
  },
  {
   "cell_type": "code",
   "execution_count": 38,
   "metadata": {},
   "outputs": [
    {
     "data": {
      "text/html": [
       "<div>\n",
       "<style scoped>\n",
       "    .dataframe tbody tr th:only-of-type {\n",
       "        vertical-align: middle;\n",
       "    }\n",
       "\n",
       "    .dataframe tbody tr th {\n",
       "        vertical-align: top;\n",
       "    }\n",
       "\n",
       "    .dataframe thead th {\n",
       "        text-align: right;\n",
       "    }\n",
       "</style>\n",
       "<table border=\"1\" class=\"dataframe\">\n",
       "  <thead>\n",
       "    <tr style=\"text-align: right;\">\n",
       "      <th></th>\n",
       "      <th>ApplicantIncome</th>\n",
       "      <th>CoapplicantIncome</th>\n",
       "      <th>LoanAmount</th>\n",
       "      <th>Loan_Amount_Term</th>\n",
       "      <th>Credit_History</th>\n",
       "    </tr>\n",
       "  </thead>\n",
       "  <tbody>\n",
       "    <tr>\n",
       "      <th>ApplicantIncome</th>\n",
       "      <td>1.000000</td>\n",
       "      <td>-0.116605</td>\n",
       "      <td>0.570909</td>\n",
       "      <td>-0.045306</td>\n",
       "      <td>-0.014715</td>\n",
       "    </tr>\n",
       "    <tr>\n",
       "      <th>CoapplicantIncome</th>\n",
       "      <td>-0.116605</td>\n",
       "      <td>1.000000</td>\n",
       "      <td>0.188619</td>\n",
       "      <td>-0.059878</td>\n",
       "      <td>-0.002056</td>\n",
       "    </tr>\n",
       "    <tr>\n",
       "      <th>LoanAmount</th>\n",
       "      <td>0.570909</td>\n",
       "      <td>0.188619</td>\n",
       "      <td>1.000000</td>\n",
       "      <td>0.039447</td>\n",
       "      <td>-0.008433</td>\n",
       "    </tr>\n",
       "    <tr>\n",
       "      <th>Loan_Amount_Term</th>\n",
       "      <td>-0.045306</td>\n",
       "      <td>-0.059878</td>\n",
       "      <td>0.039447</td>\n",
       "      <td>1.000000</td>\n",
       "      <td>0.001470</td>\n",
       "    </tr>\n",
       "    <tr>\n",
       "      <th>Credit_History</th>\n",
       "      <td>-0.014715</td>\n",
       "      <td>-0.002056</td>\n",
       "      <td>-0.008433</td>\n",
       "      <td>0.001470</td>\n",
       "      <td>1.000000</td>\n",
       "    </tr>\n",
       "  </tbody>\n",
       "</table>\n",
       "</div>"
      ],
      "text/plain": [
       "                   ApplicantIncome  CoapplicantIncome  LoanAmount  \\\n",
       "ApplicantIncome           1.000000          -0.116605    0.570909   \n",
       "CoapplicantIncome        -0.116605           1.000000    0.188619   \n",
       "LoanAmount                0.570909           0.188619    1.000000   \n",
       "Loan_Amount_Term         -0.045306          -0.059878    0.039447   \n",
       "Credit_History           -0.014715          -0.002056   -0.008433   \n",
       "\n",
       "                   Loan_Amount_Term  Credit_History  \n",
       "ApplicantIncome           -0.045306       -0.014715  \n",
       "CoapplicantIncome         -0.059878       -0.002056  \n",
       "LoanAmount                 0.039447       -0.008433  \n",
       "Loan_Amount_Term           1.000000        0.001470  \n",
       "Credit_History             0.001470        1.000000  "
      ]
     },
     "execution_count": 38,
     "metadata": {},
     "output_type": "execute_result"
    }
   ],
   "source": [
    "Train.corr()"
   ]
  },
  {
   "cell_type": "markdown",
   "metadata": {},
   "source": [
    "**Correlation Heat Map for Better understanding of Correlations.**"
   ]
  },
  {
   "cell_type": "code",
   "execution_count": 39,
   "metadata": {},
   "outputs": [
    {
     "data": {
      "image/png": "[encoded data removed]",
      "text/plain": [
       "<Figure size 864x648 with 2 Axes>"
      ]
     },
     "metadata": {
      "needs_background": "light"
     },
     "output_type": "display_data"
    }
   ],
   "source": [
    "Fig, Axes = plt.subplots(figsize = (12,9))\n",
    "Axes = sns.heatmap(Train.corr(), annot = True, linewidths = 0.5, fmt = '.2f', cmap = 'YlGnBu');\n",
    "\n",
    "# Adjusting the Broken Map :\n",
    "#Bottom, Top = Axes.get_ylim() \n",
    "#Axes.set_ylim(Bottom + 0.5, Top - 0.5);"
   ]
  },
  {
   "cell_type": "code",
   "execution_count": 40,
   "metadata": {},
   "outputs": [
    {
     "name": "stdout",
     "output_type": "stream",
     "text": [
      "Y    422\n",
      "N    192\n",
      "Name: Loan_Status, dtype: int64\n"
     ]
    }
   ],
   "source": [
    "print(Train['Loan_Status'].value_counts())"
   ]
  },
  {
   "cell_type": "markdown",
   "metadata": {},
   "source": [
    "**Replacing Y and N to 1 and 0**"
   ]
  },
  {
   "cell_type": "code",
   "execution_count": 41,
   "metadata": {},
   "outputs": [
    {
     "name": "stdout",
     "output_type": "stream",
     "text": [
      "1    422\n",
      "0    192\n",
      "Name: Loan_Status, dtype: int64\n"
     ]
    }
   ],
   "source": [
    "Train['Loan_Status'] = np.where(Train['Loan_Status'] == 'Y',1,0)\n",
    "\n",
    "print(Train['Loan_Status'].value_counts())"
   ]
  },
  {
   "cell_type": "markdown",
   "metadata": {},
   "source": [
    "**Heat Map for Checking Correlation after Including the Target Variable**"
   ]
  },
  {
   "cell_type": "code",
   "execution_count": 42,
   "metadata": {},
   "outputs": [
    {
     "data": {
      "image/png": "[encoded data removed]",
      "text/plain": [
       "<Figure size 720x576 with 2 Axes>"
      ]
     },
     "metadata": {
      "needs_background": "light"
     },
     "output_type": "display_data"
    }
   ],
   "source": [
    "Fig, Axes = plt.subplots(figsize = (10,8))\n",
    "Axes = sns.heatmap(Train.corr(), annot = True, linewidths = 0.5, fmt = '.2f', cmap = 'viridis');"
   ]
  },
  {
   "cell_type": "markdown",
   "metadata": {},
   "source": [
    "**Better Correlations :**\n",
    "1. **Applicant Income and Loan Amount.**\n",
    "2. **Credit History and Loan Status.**"
   ]
  },
  {
   "cell_type": "markdown",
   "metadata": {},
   "source": [
    "# <a name=\"DP\">Data Preprocessing</a>\n",
    "\n",
    "**A Data Minig Technique**\n",
    "\n",
    "**Transforming Raw Data into Proper Format that can be Accepted for Creating Machine Learning Models.**\n",
    "\n",
    "**Real World Data may be Incomplete and Filled with Missing Values, can't be used Directly for Creating Machine Learning Models.**\n",
    "\n",
    "**Missing Values must be Imputed or Dropped with Corresponding Mean or Median based on what Fits Better.**\n",
    "\n",
    "### Missing Value in the Data Set"
   ]
  },
  {
   "cell_type": "code",
   "execution_count": 43,
   "metadata": {},
   "outputs": [
    {
     "name": "stdout",
     "output_type": "stream",
     "text": [
      "Loan_ID               0\n",
      "Gender               13\n",
      "Married               3\n",
      "Dependents           15\n",
      "Education             0\n",
      "Self_Employed        32\n",
      "ApplicantIncome       0\n",
      "CoapplicantIncome     0\n",
      "LoanAmount           22\n",
      "Loan_Amount_Term     14\n",
      "Credit_History       50\n",
      "Property_Area         0\n",
      "Loan_Status           0\n",
      "dtype: int64\n"
     ]
    }
   ],
   "source": [
    "print(Train.isnull().sum())"
   ]
  },
  {
   "cell_type": "markdown",
   "metadata": {},
   "source": [
    "**While Filling Missing Values :**\n",
    "\n",
    "1. **Numerical Data : Impute with Mean or Median of Corresponding Column Data.**\n",
    "2. **Categorical Data : Impute with Mode of Corresponding Column Data.**"
   ]
  },
  {
   "cell_type": "code",
   "execution_count": 44,
   "metadata": {},
   "outputs": [
    {
     "data": {
      "text/html": [
       "<div>\n",
       "<style scoped>\n",
       "    .dataframe tbody tr th:only-of-type {\n",
       "        vertical-align: middle;\n",
       "    }\n",
       "\n",
       "    .dataframe tbody tr th {\n",
       "        vertical-align: top;\n",
       "    }\n",
       "\n",
       "    .dataframe thead th {\n",
       "        text-align: right;\n",
       "    }\n",
       "</style>\n",
       "<table border=\"1\" class=\"dataframe\">\n",
       "  <thead>\n",
       "    <tr style=\"text-align: right;\">\n",
       "      <th></th>\n",
       "      <th>Loan_ID</th>\n",
       "      <th>Gender</th>\n",
       "      <th>Married</th>\n",
       "      <th>Dependents</th>\n",
       "      <th>Education</th>\n",
       "      <th>Self_Employed</th>\n",
       "      <th>ApplicantIncome</th>\n",
       "      <th>CoapplicantIncome</th>\n",
       "      <th>LoanAmount</th>\n",
       "      <th>Loan_Amount_Term</th>\n",
       "      <th>Credit_History</th>\n",
       "      <th>Property_Area</th>\n",
       "      <th>Loan_Status</th>\n",
       "    </tr>\n",
       "  </thead>\n",
       "  <tbody>\n",
       "    <tr>\n",
       "      <th>0</th>\n",
       "      <td>LP001002</td>\n",
       "      <td>Male</td>\n",
       "      <td>No</td>\n",
       "      <td>0</td>\n",
       "      <td>Graduate</td>\n",
       "      <td>No</td>\n",
       "      <td>5849</td>\n",
       "      <td>0.0</td>\n",
       "      <td>NaN</td>\n",
       "      <td>360.0</td>\n",
       "      <td>1.0</td>\n",
       "      <td>Urban</td>\n",
       "      <td>1</td>\n",
       "    </tr>\n",
       "    <tr>\n",
       "      <th>1</th>\n",
       "      <td>LP001003</td>\n",
       "      <td>Male</td>\n",
       "      <td>Yes</td>\n",
       "      <td>1</td>\n",
       "      <td>Graduate</td>\n",
       "      <td>No</td>\n",
       "      <td>4583</td>\n",
       "      <td>1508.0</td>\n",
       "      <td>128.0</td>\n",
       "      <td>360.0</td>\n",
       "      <td>1.0</td>\n",
       "      <td>Rural</td>\n",
       "      <td>0</td>\n",
       "    </tr>\n",
       "    <tr>\n",
       "      <th>2</th>\n",
       "      <td>LP001005</td>\n",
       "      <td>Male</td>\n",
       "      <td>Yes</td>\n",
       "      <td>0</td>\n",
       "      <td>Graduate</td>\n",
       "      <td>Yes</td>\n",
       "      <td>3000</td>\n",
       "      <td>0.0</td>\n",
       "      <td>66.0</td>\n",
       "      <td>360.0</td>\n",
       "      <td>1.0</td>\n",
       "      <td>Urban</td>\n",
       "      <td>1</td>\n",
       "    </tr>\n",
       "    <tr>\n",
       "      <th>3</th>\n",
       "      <td>LP001006</td>\n",
       "      <td>Male</td>\n",
       "      <td>Yes</td>\n",
       "      <td>0</td>\n",
       "      <td>Not Graduate</td>\n",
       "      <td>No</td>\n",
       "      <td>2583</td>\n",
       "      <td>2358.0</td>\n",
       "      <td>120.0</td>\n",
       "      <td>360.0</td>\n",
       "      <td>1.0</td>\n",
       "      <td>Urban</td>\n",
       "      <td>1</td>\n",
       "    </tr>\n",
       "    <tr>\n",
       "      <th>4</th>\n",
       "      <td>LP001008</td>\n",
       "      <td>Male</td>\n",
       "      <td>No</td>\n",
       "      <td>0</td>\n",
       "      <td>Graduate</td>\n",
       "      <td>No</td>\n",
       "      <td>6000</td>\n",
       "      <td>0.0</td>\n",
       "      <td>141.0</td>\n",
       "      <td>360.0</td>\n",
       "      <td>1.0</td>\n",
       "      <td>Urban</td>\n",
       "      <td>1</td>\n",
       "    </tr>\n",
       "  </tbody>\n",
       "</table>\n",
       "</div>"
      ],
      "text/plain": [
       "    Loan_ID Gender Married Dependents     Education Self_Employed  \\\n",
       "0  LP001002   Male      No          0      Graduate            No   \n",
       "1  LP001003   Male     Yes          1      Graduate            No   \n",
       "2  LP001005   Male     Yes          0      Graduate           Yes   \n",
       "3  LP001006   Male     Yes          0  Not Graduate            No   \n",
       "4  LP001008   Male      No          0      Graduate            No   \n",
       "\n",
       "   ApplicantIncome  CoapplicantIncome  LoanAmount  Loan_Amount_Term  \\\n",
       "0             5849                0.0         NaN             360.0   \n",
       "1             4583             1508.0       128.0             360.0   \n",
       "2             3000                0.0        66.0             360.0   \n",
       "3             2583             2358.0       120.0             360.0   \n",
       "4             6000                0.0       141.0             360.0   \n",
       "\n",
       "   Credit_History Property_Area  Loan_Status  \n",
       "0             1.0         Urban            1  \n",
       "1             1.0         Rural            0  \n",
       "2             1.0         Urban            1  \n",
       "3             1.0         Urban            1  \n",
       "4             1.0         Urban            1  "
      ]
     },
     "execution_count": 44,
     "metadata": {},
     "output_type": "execute_result"
    }
   ],
   "source": [
    "Train.head()"
   ]
  },
  {
   "cell_type": "markdown",
   "metadata": {},
   "source": [
    "#### Categorical Features : (Gender, Married,Dependents,  Education, Self Employed, Credit Score)"
   ]
  },
  {
   "cell_type": "code",
   "execution_count": 45,
   "metadata": {},
   "outputs": [
    {
     "name": "stdout",
     "output_type": "stream",
     "text": [
      "Gender : \n",
      "Male      489\n",
      "Female    112\n",
      "Name: Gender, dtype: int64\n",
      "\n",
      "Marital Status : \n",
      "Yes    398\n",
      "No     213\n",
      "Name: Married, dtype: int64\n",
      "\n",
      "Dependents : \n",
      "0     345\n",
      "1     102\n",
      "2     101\n",
      "3+     51\n",
      "Name: Dependents, dtype: int64\n",
      "\n",
      "Education : \n",
      "Graduate        480\n",
      "Not Graduate    134\n",
      "Name: Education, dtype: int64\n",
      "\n",
      "Self Employed : \n",
      "No     500\n",
      "Yes     82\n",
      "Name: Self_Employed, dtype: int64\n",
      "\n",
      "Credit Score : \n",
      "1.0    475\n",
      "0.0     89\n",
      "Name: Credit_History, dtype: int64\n"
     ]
    }
   ],
   "source": [
    "print(f'Gender : \\n{Train[\"Gender\"].value_counts()}')\n",
    "print()\n",
    "print(f'Marital Status : \\n{Train[\"Married\"].value_counts()}')\n",
    "print()\n",
    "print(f'Dependents : \\n{Train[\"Dependents\"].value_counts()}')\n",
    "print()\n",
    "print(f'Education : \\n{Train[\"Education\"].value_counts()}')\n",
    "print()\n",
    "print(f'Self Employed : \\n{Train[\"Self_Employed\"].value_counts()}')\n",
    "print()\n",
    "print(f'Credit Score : \\n{Train[\"Credit_History\"].value_counts()}')"
   ]
  },
  {
   "cell_type": "markdown",
   "metadata": {},
   "source": [
    "**Impute the Categorical Missing Values with Mode : Most Frequently Repeated Value from the Column.**\n",
    "\n",
    "**Imputation should be done in both Train and Test Data Set**"
   ]
  },
  {
   "cell_type": "code",
   "execution_count": 46,
   "metadata": {},
   "outputs": [],
   "source": [
    "Train['Gender'].fillna(Train['Gender'].mode()[0], inplace = True) # Count of Male is More than Female.\n",
    "Test['Gender'].fillna(Test['Gender'].mode()[0], inplace = True)\n",
    "\n",
    "Train['Married'].fillna(Train['Married'].mode()[0], inplace = True) # Count of Married is more than Unmarried.\n",
    "Test['Married'].fillna(Test['Married'].mode()[0], inplace = True)\n",
    "\n",
    "Train['Dependents'].fillna(Train['Dependents'].mode()[0], inplace = True) # Count of 0 Dependents is the Maximum.\n",
    "Test['Dependents'].fillna(Test['Dependents'].mode()[0], inplace = True)\n",
    "\n",
    "Train['Education'].fillna(Train['Education'].mode()[0], inplace = True) # # Count of Graduates is more than Non Graduates.\n",
    "Test['Education'].fillna(Test['Education'].mode()[0], inplace = True)\n",
    "\n",
    "Train['Self_Employed'].fillna(Train['Self_Employed'].mode()[0], inplace = True) # Count of Non Self Employed is More.\n",
    "Test['Self_Employed'].fillna(Test['Self_Employed'].mode()[0], inplace = True)\n",
    "\n",
    "Train['Credit_History'].fillna(Train['Credit_History'].mode()[0], inplace = True) # Credit Score 1.0 Count is More.\n",
    "Test['Credit_History'].fillna(Test['Credit_History'].mode()[0], inplace = True)"
   ]
  },
  {
   "cell_type": "markdown",
   "metadata": {},
   "source": [
    "**Check that Missing Values are Filled or Not :**"
   ]
  },
  {
   "cell_type": "code",
   "execution_count": 47,
   "metadata": {},
   "outputs": [
    {
     "name": "stdout",
     "output_type": "stream",
     "text": [
      "Loan_ID               0\n",
      "Gender                0\n",
      "Married               0\n",
      "Dependents            0\n",
      "Education             0\n",
      "Self_Employed         0\n",
      "ApplicantIncome       0\n",
      "CoapplicantIncome     0\n",
      "LoanAmount           22\n",
      "Loan_Amount_Term     14\n",
      "Credit_History        0\n",
      "Property_Area         0\n",
      "Loan_Status           0\n",
      "dtype: int64\n"
     ]
    }
   ],
   "source": [
    "print(Train.isnull().sum())"
   ]
  },
  {
   "cell_type": "markdown",
   "metadata": {},
   "source": [
    "**Replacing 3+ in Dependents to 3**"
   ]
  },
  {
   "cell_type": "code",
   "execution_count": 48,
   "metadata": {},
   "outputs": [
    {
     "name": "stdout",
     "output_type": "stream",
     "text": [
      "0     360\n",
      "1     102\n",
      "2     101\n",
      "3+     51\n",
      "Name: Dependents, dtype: int64\n"
     ]
    }
   ],
   "source": [
    "print(Train['Dependents'].value_counts())"
   ]
  },
  {
   "cell_type": "code",
   "execution_count": 49,
   "metadata": {},
   "outputs": [
    {
     "name": "stdout",
     "output_type": "stream",
     "text": [
      "0    360\n",
      "1    102\n",
      "2    101\n",
      "3     51\n",
      "Name: Dependents, dtype: int64\n"
     ]
    }
   ],
   "source": [
    "Train['Dependents'].replace('3+', 3, inplace = True)\n",
    "Test['Dependents'].replace('3+', 3, inplace = True)\n",
    "print(Train['Dependents'].value_counts())"
   ]
  },
  {
   "cell_type": "markdown",
   "metadata": {},
   "source": [
    "**Now Only Loan Amount and Loan Amount Terms are Remaining.**"
   ]
  },
  {
   "cell_type": "code",
   "execution_count": 50,
   "metadata": {},
   "outputs": [
    {
     "name": "stdout",
     "output_type": "stream",
     "text": [
      "360.0    512\n",
      "180.0     44\n",
      "480.0     15\n",
      "300.0     13\n",
      "84.0       4\n",
      "240.0      4\n",
      "120.0      3\n",
      "36.0       2\n",
      "60.0       2\n",
      "12.0       1\n",
      "Name: Loan_Amount_Term, dtype: int64\n"
     ]
    }
   ],
   "source": [
    "print(Train['Loan_Amount_Term'].value_counts())"
   ]
  },
  {
   "cell_type": "markdown",
   "metadata": {},
   "source": [
    "**Here also Count of Loan Amount Terms of 36 Months is More than other Terms.**\n",
    "\n",
    "**Replacing Missing Values with Mode : 360 Months (30 Years)**"
   ]
  },
  {
   "cell_type": "code",
   "execution_count": 51,
   "metadata": {},
   "outputs": [],
   "source": [
    "Train['Loan_Amount_Term'].fillna(Train['Loan_Amount_Term'].mode()[0], inplace = True)\n",
    "Test['Loan_Amount_Term'].fillna(Test['Loan_Amount_Term'].mode()[0], inplace = True)"
   ]
  },
  {
   "cell_type": "markdown",
   "metadata": {},
   "source": [
    "**Loan Amount is a Numerical Data : Imputing Missing Data Values with the Median of Loan Amounts.**"
   ]
  },
  {
   "cell_type": "code",
   "execution_count": 52,
   "metadata": {},
   "outputs": [],
   "source": [
    "Train['LoanAmount'].fillna(Train['LoanAmount'].median(), inplace = True)\n",
    "Test['LoanAmount'].fillna(Test['LoanAmount'].median(), inplace = True)"
   ]
  },
  {
   "cell_type": "markdown",
   "metadata": {},
   "source": [
    "**Check whether Every Missing Data is Imputed**"
   ]
  },
  {
   "cell_type": "code",
   "execution_count": 53,
   "metadata": {},
   "outputs": [
    {
     "name": "stdout",
     "output_type": "stream",
     "text": [
      "Train Set : \n",
      "Loan_ID              0\n",
      "Gender               0\n",
      "Married              0\n",
      "Dependents           0\n",
      "Education            0\n",
      "Self_Employed        0\n",
      "ApplicantIncome      0\n",
      "CoapplicantIncome    0\n",
      "LoanAmount           0\n",
      "Loan_Amount_Term     0\n",
      "Credit_History       0\n",
      "Property_Area        0\n",
      "Loan_Status          0\n",
      "dtype: int64\n",
      "\n",
      "Test Set : \n",
      "Loan_ID              0\n",
      "Gender               0\n",
      "Married              0\n",
      "Dependents           0\n",
      "Education            0\n",
      "Self_Employed        0\n",
      "ApplicantIncome      0\n",
      "CoapplicantIncome    0\n",
      "LoanAmount           0\n",
      "Loan_Amount_Term     0\n",
      "Credit_History       0\n",
      "Property_Area        0\n",
      "dtype: int64\n"
     ]
    }
   ],
   "source": [
    "print(f\"Train Set : \\n{Train.isnull().sum()}\")\n",
    "print()\n",
    "print(f\"Test Set : \\n{Test.isnull().sum()}\")"
   ]
  },
  {
   "cell_type": "markdown",
   "metadata": {},
   "source": [
    "**Every Missing Values are Imputed Successfully in both Train and Test Data Sets.**\n",
    "***\n",
    "### Outlier Treatment\n",
    "\n",
    "**Major Outliers where Observed above in Applicant Income, Coapplicant Income and The Loan Amount.**\n",
    "\n",
    "**Outliers where Clearly Visible in Histogram  above.**\n",
    "\n",
    "**Outliers in the Data Set Often Affects the Mean and Standard Deviation by affecting the Distribution of Data.**\n",
    "\n",
    "**More Data is Present on Left and Long Tail is on Right. (Right Skewed : Positive Skewed)**\n",
    "\n",
    "**One Way to Remove Skewness is to Perform Log Transformation.**\n",
    "\n",
    "**Log Transformation does not Affect the Smaller Values but Reduces the Larger Values, so we get Similar to Normal Distribution.**\n",
    "\n",
    "### Before Log Transformation :"
   ]
  },
  {
   "cell_type": "code",
   "execution_count": 54,
   "metadata": {},
   "outputs": [
    {
     "data": {
      "image/png": "[encoded data removed]",
      "text/plain": [
       "<Figure size 1080x360 with 2 Axes>"
      ]
     },
     "metadata": {
      "needs_background": "light"
     },
     "output_type": "display_data"
    }
   ],
   "source": [
    "plt.subplot(121)\n",
    "Train[\"LoanAmount\"].hist(figsize = (15,5), bins = 20)\n",
    "plt.title('Loan Amount Distribution of Train Set')\n",
    "\n",
    "plt.subplot(122)\n",
    "Test['LoanAmount'].hist(bins = 20)\n",
    "plt.title('Loan Amount Distribution of Test Set');"
   ]
  },
  {
   "cell_type": "markdown",
   "metadata": {},
   "source": [
    "**Log Transformation of Loan Amount in Train and Test Sets.**\n",
    "\n",
    "### After Log Transformation :"
   ]
  },
  {
   "cell_type": "code",
   "execution_count": 55,
   "metadata": {},
   "outputs": [
    {
     "data": {
      "image/png": "[encoded data removed]",
      "text/plain": [
       "<Figure size 1080x360 with 2 Axes>"
      ]
     },
     "metadata": {
      "needs_background": "light"
     },
     "output_type": "display_data"
    }
   ],
   "source": [
    "plt.subplot(121)\n",
    "np.log(Train['LoanAmount']).hist(figsize = (15,5), bins = 20)\n",
    "plt.title(f'Log Transformed Distribution of Loan Amount (Train)')\n",
    "\n",
    "plt.subplot(122)\n",
    "np.log(Test['LoanAmount']).hist(bins = 20)\n",
    "plt.title(f'Log Transformed Distribution of Loan Amount (Test)');"
   ]
  },
  {
   "cell_type": "markdown",
   "metadata": {},
   "source": [
    "**Now the Distribution Looks Little Bit Close to the Normal Distribution**\n",
    "\n",
    "**Larger Values are Normalized.**\n",
    "***\n",
    "# <a name=\"DME\">Data Modelling and Evaluation</a>\n",
    "\n",
    "**Evaluation Metrics for Classification**\n",
    "\n",
    "1. **Confusion Matrix**\n",
    "\n",
    "<table><tr><td><img height = 400 width = 400 src=\"Confusion Matrix.jpg\"></td></tr></table>\n",
    "<table>\n",
    "    <caption>Confusion Matrix</caption>\n",
    "    <tr><td>True Positive : </td>\n",
    "        <td>Actual Value is True (Y) and Prediction is also True (Y)</td>\n",
    "    </tr>\n",
    "    <tr><td>True Negative : </td>\n",
    "        <td>Actual Value is False (N) and Prediction is also False (N)</td>\n",
    "    </tr>\n",
    "    <tr><td>False Positive : </td>\n",
    "        <td>Actual Value is False (N) and Prediction is True (Y)</td>\n",
    "    </tr>\n",
    "    <tr><td>False Negative : </td>\n",
    "        <td>Actual Value is True (Y) and Prediction is False (N)</td>\n",
    "    </tr>\n",
    "</table>\n",
    "\n",
    "**Accuracy : (TP + TN)  /  (TP + TN + FP + FN)**\n",
    "\n",
    "**Precision : Correctness Achieved in True Prediction (Actually Labelled True Predictions) : TP / (TP + FP)** \n",
    "\n",
    "**Recall (Sensitivity) : How many Observations of True Class are Labelled Correctly ? : TP / (TP + FN)**\n",
    "\n",
    "* **Recall Example :** Proportion of Patients who Actually have COVID19 and Tested Positive.\n",
    "\n",
    "**Specificity : How many Observations of False Class are Labelled Correctly ? : TN / (TN + FP)**\n",
    "\n",
    "* **Specificity :** Proportion of Patients without COVID19 and Test Negative.\n",
    "\n",
    "**Specificity and Sensitivity is Very Important for ROC Curve.**\n",
    "\n",
    "***\n",
    "\n",
    "**2.ROC : Receiver Operating Characteristic**\n",
    "\n",
    "1. **Summarizes Model Performance.**\n",
    "2. **Higher the Area Under Curve (AUC), Better the Prediction Power of the Model.**\n",
    "3. **Area Under Curve Measures the Ability of Model to Correctly Classify True Positive's and True Negative's**\n",
    "\n",
    "<table><caption>Classes of AUC</caption><tr><td><img height=\"200\" weight=\"200\" src=\"ROC.jpg\"></td></tr></table>"
   ]
  },
  {
   "cell_type": "markdown",
   "metadata": {},
   "source": [
    "**First Model for Classification : Logistic Regression**\n",
    "\n",
    "**Logistic Regression is a Classification Algorithm : Predicts Binary (0 or 1, Y or N, True or False)**\n",
    "\n",
    "**Estimation of Logit Function : Sinosuidal (S Shaped Curve) Probability Estimation of 1 or 0**\n",
    "***\n",
    "**Loan ID is of No Use so Removing the Loan ID Column from Train and Test Data Set.**"
   ]
  },
  {
   "cell_type": "code",
   "execution_count": 56,
   "metadata": {},
   "outputs": [],
   "source": [
    "Train.drop('Loan_ID', axis = 'columns', inplace = True)\n",
    "Test.drop('Loan_ID', axis = 'columns', inplace = True)"
   ]
  },
  {
   "cell_type": "code",
   "execution_count": 57,
   "metadata": {},
   "outputs": [
    {
     "data": {
      "text/html": [
       "<div>\n",
       "<style scoped>\n",
       "    .dataframe tbody tr th:only-of-type {\n",
       "        vertical-align: middle;\n",
       "    }\n",
       "\n",
       "    .dataframe tbody tr th {\n",
       "        vertical-align: top;\n",
       "    }\n",
       "\n",
       "    .dataframe thead th {\n",
       "        text-align: right;\n",
       "    }\n",
       "</style>\n",
       "<table border=\"1\" class=\"dataframe\">\n",
       "  <thead>\n",
       "    <tr style=\"text-align: right;\">\n",
       "      <th></th>\n",
       "      <th>Gender</th>\n",
       "      <th>Married</th>\n",
       "      <th>Dependents</th>\n",
       "      <th>Education</th>\n",
       "      <th>Self_Employed</th>\n",
       "      <th>ApplicantIncome</th>\n",
       "      <th>CoapplicantIncome</th>\n",
       "      <th>LoanAmount</th>\n",
       "      <th>Loan_Amount_Term</th>\n",
       "      <th>Credit_History</th>\n",
       "      <th>Property_Area</th>\n",
       "      <th>Loan_Status</th>\n",
       "    </tr>\n",
       "  </thead>\n",
       "  <tbody>\n",
       "    <tr>\n",
       "      <th>0</th>\n",
       "      <td>Male</td>\n",
       "      <td>No</td>\n",
       "      <td>0</td>\n",
       "      <td>Graduate</td>\n",
       "      <td>No</td>\n",
       "      <td>5849</td>\n",
       "      <td>0.0</td>\n",
       "      <td>128.0</td>\n",
       "      <td>360.0</td>\n",
       "      <td>1.0</td>\n",
       "      <td>Urban</td>\n",
       "      <td>1</td>\n",
       "    </tr>\n",
       "    <tr>\n",
       "      <th>1</th>\n",
       "      <td>Male</td>\n",
       "      <td>Yes</td>\n",
       "      <td>1</td>\n",
       "      <td>Graduate</td>\n",
       "      <td>No</td>\n",
       "      <td>4583</td>\n",
       "      <td>1508.0</td>\n",
       "      <td>128.0</td>\n",
       "      <td>360.0</td>\n",
       "      <td>1.0</td>\n",
       "      <td>Rural</td>\n",
       "      <td>0</td>\n",
       "    </tr>\n",
       "    <tr>\n",
       "      <th>2</th>\n",
       "      <td>Male</td>\n",
       "      <td>Yes</td>\n",
       "      <td>0</td>\n",
       "      <td>Graduate</td>\n",
       "      <td>Yes</td>\n",
       "      <td>3000</td>\n",
       "      <td>0.0</td>\n",
       "      <td>66.0</td>\n",
       "      <td>360.0</td>\n",
       "      <td>1.0</td>\n",
       "      <td>Urban</td>\n",
       "      <td>1</td>\n",
       "    </tr>\n",
       "    <tr>\n",
       "      <th>3</th>\n",
       "      <td>Male</td>\n",
       "      <td>Yes</td>\n",
       "      <td>0</td>\n",
       "      <td>Not Graduate</td>\n",
       "      <td>No</td>\n",
       "      <td>2583</td>\n",
       "      <td>2358.0</td>\n",
       "      <td>120.0</td>\n",
       "      <td>360.0</td>\n",
       "      <td>1.0</td>\n",
       "      <td>Urban</td>\n",
       "      <td>1</td>\n",
       "    </tr>\n",
       "    <tr>\n",
       "      <th>4</th>\n",
       "      <td>Male</td>\n",
       "      <td>No</td>\n",
       "      <td>0</td>\n",
       "      <td>Graduate</td>\n",
       "      <td>No</td>\n",
       "      <td>6000</td>\n",
       "      <td>0.0</td>\n",
       "      <td>141.0</td>\n",
       "      <td>360.0</td>\n",
       "      <td>1.0</td>\n",
       "      <td>Urban</td>\n",
       "      <td>1</td>\n",
       "    </tr>\n",
       "  </tbody>\n",
       "</table>\n",
       "</div>"
      ],
      "text/plain": [
       "  Gender Married Dependents     Education Self_Employed  ApplicantIncome  \\\n",
       "0   Male      No          0      Graduate            No             5849   \n",
       "1   Male     Yes          1      Graduate            No             4583   \n",
       "2   Male     Yes          0      Graduate           Yes             3000   \n",
       "3   Male     Yes          0  Not Graduate            No             2583   \n",
       "4   Male      No          0      Graduate            No             6000   \n",
       "\n",
       "   CoapplicantIncome  LoanAmount  Loan_Amount_Term  Credit_History  \\\n",
       "0                0.0       128.0             360.0             1.0   \n",
       "1             1508.0       128.0             360.0             1.0   \n",
       "2                0.0        66.0             360.0             1.0   \n",
       "3             2358.0       120.0             360.0             1.0   \n",
       "4                0.0       141.0             360.0             1.0   \n",
       "\n",
       "  Property_Area  Loan_Status  \n",
       "0         Urban            1  \n",
       "1         Rural            0  \n",
       "2         Urban            1  \n",
       "3         Urban            1  \n",
       "4         Urban            1  "
      ]
     },
     "execution_count": 57,
     "metadata": {},
     "output_type": "execute_result"
    }
   ],
   "source": [
    "Train.head()"
   ]
  },
  {
   "cell_type": "markdown",
   "metadata": {},
   "source": [
    "**Scikit Learn is the Rich Set Library Well Equipped with Machine Learning Algorithms :** \n",
    "\n",
    "**Library for Creating Machine Learning Models and it's Evaluations.**\n",
    "***\n",
    "**Splitting the Data Set into Independent Variables and Target Variable.**"
   ]
  },
  {
   "cell_type": "code",
   "execution_count": 58,
   "metadata": {},
   "outputs": [],
   "source": [
    "X = Train.drop('Loan_Status', axis = 'columns')\n",
    "Y = Train['Loan_Status']"
   ]
  },
  {
   "cell_type": "markdown",
   "metadata": {},
   "source": [
    "**Creating Dummy Variables for Categorical Values.**\n",
    "\n",
    "**Dummy Variables turns Categorical Variabes into a Series of 0 and 1, making them Easier to Quantify and Compare.**\n"
   ]
  },
  {
   "cell_type": "code",
   "execution_count": 59,
   "metadata": {},
   "outputs": [],
   "source": [
    "X = pd.get_dummies(X, drop_first = True)\n",
    "\n",
    "Train = pd.get_dummies(Train, drop_first = True)\n",
    "\n",
    "Test = pd.get_dummies(Test, drop_first = True)"
   ]
  },
  {
   "cell_type": "code",
   "execution_count": 60,
   "metadata": {},
   "outputs": [
    {
     "data": {
      "text/html": [
       "<div>\n",
       "<style scoped>\n",
       "    .dataframe tbody tr th:only-of-type {\n",
       "        vertical-align: middle;\n",
       "    }\n",
       "\n",
       "    .dataframe tbody tr th {\n",
       "        vertical-align: top;\n",
       "    }\n",
       "\n",
       "    .dataframe thead th {\n",
       "        text-align: right;\n",
       "    }\n",
       "</style>\n",
       "<table border=\"1\" class=\"dataframe\">\n",
       "  <thead>\n",
       "    <tr style=\"text-align: right;\">\n",
       "      <th></th>\n",
       "      <th>ApplicantIncome</th>\n",
       "      <th>CoapplicantIncome</th>\n",
       "      <th>LoanAmount</th>\n",
       "      <th>Loan_Amount_Term</th>\n",
       "      <th>Credit_History</th>\n",
       "      <th>Gender_Male</th>\n",
       "      <th>Married_Yes</th>\n",
       "      <th>Dependents_0</th>\n",
       "      <th>Dependents_1</th>\n",
       "      <th>Dependents_2</th>\n",
       "      <th>Education_Not Graduate</th>\n",
       "      <th>Self_Employed_Yes</th>\n",
       "      <th>Property_Area_Semiurban</th>\n",
       "      <th>Property_Area_Urban</th>\n",
       "    </tr>\n",
       "  </thead>\n",
       "  <tbody>\n",
       "    <tr>\n",
       "      <th>0</th>\n",
       "      <td>5849</td>\n",
       "      <td>0.0</td>\n",
       "      <td>128.0</td>\n",
       "      <td>360.0</td>\n",
       "      <td>1.0</td>\n",
       "      <td>1</td>\n",
       "      <td>0</td>\n",
       "      <td>1</td>\n",
       "      <td>0</td>\n",
       "      <td>0</td>\n",
       "      <td>0</td>\n",
       "      <td>0</td>\n",
       "      <td>0</td>\n",
       "      <td>1</td>\n",
       "    </tr>\n",
       "    <tr>\n",
       "      <th>1</th>\n",
       "      <td>4583</td>\n",
       "      <td>1508.0</td>\n",
       "      <td>128.0</td>\n",
       "      <td>360.0</td>\n",
       "      <td>1.0</td>\n",
       "      <td>1</td>\n",
       "      <td>1</td>\n",
       "      <td>0</td>\n",
       "      <td>1</td>\n",
       "      <td>0</td>\n",
       "      <td>0</td>\n",
       "      <td>0</td>\n",
       "      <td>0</td>\n",
       "      <td>0</td>\n",
       "    </tr>\n",
       "    <tr>\n",
       "      <th>2</th>\n",
       "      <td>3000</td>\n",
       "      <td>0.0</td>\n",
       "      <td>66.0</td>\n",
       "      <td>360.0</td>\n",
       "      <td>1.0</td>\n",
       "      <td>1</td>\n",
       "      <td>1</td>\n",
       "      <td>1</td>\n",
       "      <td>0</td>\n",
       "      <td>0</td>\n",
       "      <td>0</td>\n",
       "      <td>1</td>\n",
       "      <td>0</td>\n",
       "      <td>1</td>\n",
       "    </tr>\n",
       "    <tr>\n",
       "      <th>3</th>\n",
       "      <td>2583</td>\n",
       "      <td>2358.0</td>\n",
       "      <td>120.0</td>\n",
       "      <td>360.0</td>\n",
       "      <td>1.0</td>\n",
       "      <td>1</td>\n",
       "      <td>1</td>\n",
       "      <td>1</td>\n",
       "      <td>0</td>\n",
       "      <td>0</td>\n",
       "      <td>1</td>\n",
       "      <td>0</td>\n",
       "      <td>0</td>\n",
       "      <td>1</td>\n",
       "    </tr>\n",
       "    <tr>\n",
       "      <th>4</th>\n",
       "      <td>6000</td>\n",
       "      <td>0.0</td>\n",
       "      <td>141.0</td>\n",
       "      <td>360.0</td>\n",
       "      <td>1.0</td>\n",
       "      <td>1</td>\n",
       "      <td>0</td>\n",
       "      <td>1</td>\n",
       "      <td>0</td>\n",
       "      <td>0</td>\n",
       "      <td>0</td>\n",
       "      <td>0</td>\n",
       "      <td>0</td>\n",
       "      <td>1</td>\n",
       "    </tr>\n",
       "  </tbody>\n",
       "</table>\n",
       "</div>"
      ],
      "text/plain": [
       "   ApplicantIncome  CoapplicantIncome  LoanAmount  Loan_Amount_Term  \\\n",
       "0             5849                0.0       128.0             360.0   \n",
       "1             4583             1508.0       128.0             360.0   \n",
       "2             3000                0.0        66.0             360.0   \n",
       "3             2583             2358.0       120.0             360.0   \n",
       "4             6000                0.0       141.0             360.0   \n",
       "\n",
       "   Credit_History  Gender_Male  Married_Yes  Dependents_0  Dependents_1  \\\n",
       "0             1.0            1            0             1             0   \n",
       "1             1.0            1            1             0             1   \n",
       "2             1.0            1            1             1             0   \n",
       "3             1.0            1            1             1             0   \n",
       "4             1.0            1            0             1             0   \n",
       "\n",
       "   Dependents_2  Education_Not Graduate  Self_Employed_Yes  \\\n",
       "0             0                       0                  0   \n",
       "1             0                       0                  0   \n",
       "2             0                       0                  1   \n",
       "3             0                       1                  0   \n",
       "4             0                       0                  0   \n",
       "\n",
       "   Property_Area_Semiurban  Property_Area_Urban  \n",
       "0                        0                    1  \n",
       "1                        0                    0  \n",
       "2                        0                    1  \n",
       "3                        0                    1  \n",
       "4                        0                    1  "
      ]
     },
     "execution_count": 60,
     "metadata": {},
     "output_type": "execute_result"
    }
   ],
   "source": [
    "X.head()"
   ]
  },
  {
   "cell_type": "markdown",
   "metadata": {},
   "source": [
    "**Splitting the Data into Train and Valid Set**\n",
    "\n",
    "**Import Librarty for Model Selection**"
   ]
  },
  {
   "cell_type": "code",
   "execution_count": 61,
   "metadata": {},
   "outputs": [],
   "source": [
    "from sklearn.model_selection import train_test_split"
   ]
  },
  {
   "cell_type": "code",
   "execution_count": 62,
   "metadata": {},
   "outputs": [],
   "source": [
    "X_Train, X_Valid, Y_Train, Y_Valid = train_test_split(X, Y, test_size = 0.3, random_state = 0)"
   ]
  },
  {
   "cell_type": "markdown",
   "metadata": {},
   "source": [
    "**Dimensions of Train Set and Valid Set.**"
   ]
  },
  {
   "cell_type": "code",
   "execution_count": 63,
   "metadata": {},
   "outputs": [
    {
     "name": "stdout",
     "output_type": "stream",
     "text": [
      "70 % of Train Set Dimension : 429 and its Traget Variables Dimension : 429\n",
      "30 % of Valid Set Dimension : 185 and its Target Variables Dimension : 185\n"
     ]
    }
   ],
   "source": [
    "print(f'70 % of Train Set Dimension : {len(X_Train)} and its Traget Variables Dimension : {len(Y_Train)}')\n",
    "print(f'30 % of Valid Set Dimension : {len(X_Valid)} and its Target Variables Dimension : {len(Y_Valid)}')"
   ]
  },
  {
   "cell_type": "markdown",
   "metadata": {},
   "source": [
    "**Import Logistic Regression Model and Accuracy Score for Evaluation:**"
   ]
  },
  {
   "cell_type": "code",
   "execution_count": 64,
   "metadata": {},
   "outputs": [],
   "source": [
    "from sklearn.linear_model import LogisticRegression\n",
    "\n",
    "from sklearn.metrics import accuracy_score"
   ]
  },
  {
   "cell_type": "markdown",
   "metadata": {},
   "source": [
    "**Instantiate Model Object and Fit the Model to Find Patterns.**"
   ]
  },
  {
   "cell_type": "code",
   "execution_count": 65,
   "metadata": {},
   "outputs": [
    {
     "data": {
      "text/plain": [
       "LogisticRegression(C=1.0, class_weight=None, dual=False, fit_intercept=True,\n",
       "                   intercept_scaling=1, l1_ratio=None, max_iter=100,\n",
       "                   multi_class='auto', n_jobs=None, penalty='l2',\n",
       "                   random_state=None, solver='lbfgs', tol=0.0001, verbose=0,\n",
       "                   warm_start=False)"
      ]
     },
     "execution_count": 65,
     "metadata": {},
     "output_type": "execute_result"
    }
   ],
   "source": [
    "Model = LogisticRegression()\n",
    "\n",
    "Model.fit(X_Train, Y_Train)"
   ]
  },
  {
   "cell_type": "markdown",
   "metadata": {},
   "source": [
    "**Let's Predict Loan Status on Valid Data and Check it's Accuracy Score.**"
   ]
  },
  {
   "cell_type": "code",
   "execution_count": 66,
   "metadata": {},
   "outputs": [
    {
     "name": "stdout",
     "output_type": "stream",
     "text": [
      "Accuracy Score of Logistic Regression Model : 83.24%\n"
     ]
    }
   ],
   "source": [
    "Y_Prediction = Model.predict(X_Valid)\n",
    "\n",
    "print(f'Accuracy Score of Logistic Regression Model : {accuracy_score(Y_Valid, Y_Prediction)*100:.2f}%')"
   ]
  },
  {
   "cell_type": "markdown",
   "metadata": {},
   "source": [
    "**Model has Identified 83% of Loan Status Correctly.**\n",
    "***\n",
    "**Import Metric Library for Confusion Matrix :**"
   ]
  },
  {
   "cell_type": "code",
   "execution_count": 67,
   "metadata": {},
   "outputs": [],
   "source": [
    "from sklearn.metrics import confusion_matrix"
   ]
  },
  {
   "cell_type": "markdown",
   "metadata": {},
   "source": [
    "**Confusion Matrix :**"
   ]
  },
  {
   "cell_type": "code",
   "execution_count": 68,
   "metadata": {},
   "outputs": [],
   "source": [
    "ConfusionMatrix = confusion_matrix(Y_Valid, Y_Prediction)"
   ]
  },
  {
   "cell_type": "markdown",
   "metadata": {},
   "source": [
    "**Visualizing Confusion Matrix as Heat Map for Better Understanding**"
   ]
  },
  {
   "cell_type": "code",
   "execution_count": 69,
   "metadata": {},
   "outputs": [
    {
     "data": {
      "image/png": "[encoded data removed]",
      "text/plain": [
       "<Figure size 432x288 with 2 Axes>"
      ]
     },
     "metadata": {
      "needs_background": "light"
     },
     "output_type": "display_data"
    }
   ],
   "source": [
    "sns.heatmap(ConfusionMatrix, annot = True, fmt = \"d\", cmap = 'viridis')\n",
    "plt.title('Confusion Matrix of Classifier')\n",
    "plt.xlabel('Predicted')\n",
    "plt.ylabel('Actual');"
   ]
  },
  {
   "cell_type": "markdown",
   "metadata": {},
   "source": [
    "**Import Metric Library for Classification Report**"
   ]
  },
  {
   "cell_type": "code",
   "execution_count": 70,
   "metadata": {},
   "outputs": [],
   "source": [
    "from sklearn.metrics import classification_report"
   ]
  },
  {
   "cell_type": "markdown",
   "metadata": {},
   "source": [
    "**3.Classification Report :**"
   ]
  },
  {
   "cell_type": "code",
   "execution_count": 71,
   "metadata": {},
   "outputs": [
    {
     "name": "stdout",
     "output_type": "stream",
     "text": [
      "Classification Report for Classifier : \n",
      "              precision    recall  f1-score   support\n",
      "\n",
      "           0       0.92      0.43      0.59        51\n",
      "           1       0.82      0.99      0.89       134\n",
      "\n",
      "    accuracy                           0.83       185\n",
      "   macro avg       0.87      0.71      0.74       185\n",
      "weighted avg       0.85      0.83      0.81       185\n",
      "\n"
     ]
    }
   ],
   "source": [
    "print(f'Classification Report for Classifier : \\n{classification_report(Y_Valid, Y_Prediction)}')"
   ]
  },
  {
   "cell_type": "markdown",
   "metadata": {},
   "source": [
    "**Performance of Our Model is Good : 83% of Accuracy, 82% of Precision and 99% of Recall.**\n",
    "****\n",
    "**Prediction for Test Data Set**"
   ]
  },
  {
   "cell_type": "code",
   "execution_count": 72,
   "metadata": {},
   "outputs": [],
   "source": [
    "Test_Prediction = Model.predict(Test)"
   ]
  },
  {
   "cell_type": "markdown",
   "metadata": {},
   "source": [
    "**Predictions**"
   ]
  },
  {
   "cell_type": "code",
   "execution_count": 73,
   "metadata": {},
   "outputs": [
    {
     "name": "stdout",
     "output_type": "stream",
     "text": [
      "[1 1 1 1 1 1 1 0 1 1 1 1 1 0 1 1 1 1 1 1 1 1 1 1 1]\n"
     ]
    }
   ],
   "source": [
    "print(Test_Prediction[:25])"
   ]
  },
  {
   "cell_type": "markdown",
   "metadata": {},
   "source": [
    "**Importing Submission File which we have to Send for Solution Checking.**"
   ]
  },
  {
   "cell_type": "code",
   "execution_count": 74,
   "metadata": {},
   "outputs": [],
   "source": [
    "Submission = pd.read_csv(\"Sample Submission.csv\")\n",
    "\n",
    "Loan = pd.read_csv(\"Loan Approval Test.csv\")"
   ]
  },
  {
   "cell_type": "markdown",
   "metadata": {},
   "source": [
    "**We Want Loan ID Column from Test Data Set**"
   ]
  },
  {
   "cell_type": "code",
   "execution_count": 75,
   "metadata": {},
   "outputs": [],
   "source": [
    "Submission['Loan_ID'] = Loan['Loan_ID']\n",
    "\n",
    "Submission['Loan_Status'] = Test_Prediction"
   ]
  },
  {
   "cell_type": "code",
   "execution_count": 76,
   "metadata": {},
   "outputs": [
    {
     "name": "stdout",
     "output_type": "stream",
     "text": [
      "    Loan_ID  Loan_Status\n",
      "0  LP001015            1\n",
      "1  LP001022            1\n",
      "2  LP001031            1\n",
      "3  LP001035            1\n",
      "4  LP001051            1\n"
     ]
    }
   ],
   "source": [
    "print(Submission.head())"
   ]
  },
  {
   "cell_type": "markdown",
   "metadata": {},
   "source": [
    "**We Need Prediction in Y and N**"
   ]
  },
  {
   "cell_type": "code",
   "execution_count": 77,
   "metadata": {},
   "outputs": [],
   "source": [
    "Submission['Loan_Status'] = np.where(Submission['Loan_Status'] == 1, \"Y\", \"N\")"
   ]
  },
  {
   "cell_type": "code",
   "execution_count": 78,
   "metadata": {},
   "outputs": [
    {
     "name": "stdout",
     "output_type": "stream",
     "text": [
      "    Loan_ID Loan_Status\n",
      "0  LP001015           Y\n",
      "1  LP001022           Y\n",
      "2  LP001031           Y\n",
      "3  LP001035           Y\n",
      "4  LP001051           Y\n"
     ]
    }
   ],
   "source": [
    "print(Submission.head())"
   ]
  },
  {
   "cell_type": "markdown",
   "metadata": {},
   "source": [
    "**Submit to Check Accuracy on the Leaderboard.**"
   ]
  },
  {
   "cell_type": "code",
   "execution_count": 79,
   "metadata": {},
   "outputs": [],
   "source": [
    "Submission.to_csv('Logistic.csv', index = False)"
   ]
  },
  {
   "cell_type": "markdown",
   "metadata": {},
   "source": [
    "**Score for My Submission : 78% of Accuracy**\n",
    "***\n",
    "**Using Cross Validation for Better Results**\n",
    "\n",
    "### Logistic Regression using Stratified K Fold Cross Validation\n",
    "\n",
    "<table><caption><b>Stratified 5 Fold Cross Validation</b></caption><tr><td><img height = 600 width = 600 src = \"Cross Validation.png\"></td></tr></table>\n",
    "\n",
    "**Stratification : The Process of Rearranging the Data so that Each Data Group forms a Good Proportion of Whole Data Set.**\n",
    "\n",
    "**For Example : In a Binary Classification Problem, Each Class Comprises of 50% of Data : 50% for Y and 50% for No.**\n",
    "\n",
    "**It Even Deals with Bias and Variance.**\n",
    "\n",
    "***\n",
    "\n",
    "**Import Stratified K Fold :**"
   ]
  },
  {
   "cell_type": "code",
   "execution_count": 80,
   "metadata": {},
   "outputs": [],
   "source": [
    "from sklearn.model_selection import StratifiedKFold"
   ]
  },
  {
   "cell_type": "markdown",
   "metadata": {},
   "source": [
    "**A Cross Vaidation Logistic Model with Stratified 5 Folds**\n",
    "\n",
    "**Each Fold will Contain Equal Proportion of Data.**\n",
    "\n",
    "**Shuffle the Data before Splitting.**"
   ]
  },
  {
   "cell_type": "code",
   "execution_count": 81,
   "metadata": {},
   "outputs": [
    {
     "name": "stdout",
     "output_type": "stream",
     "text": [
      "\n",
      "1 of 5 Folds :\n",
      "Accuracy Score : 81.30%\n",
      "\n",
      "2 of 5 Folds :\n",
      "Accuracy Score : 82.93%\n",
      "\n",
      "3 of 5 Folds :\n",
      "Accuracy Score : 79.67%\n",
      "\n",
      "4 of 5 Folds :\n",
      "Accuracy Score : 78.05%\n",
      "\n",
      "5 of 5 Folds :\n",
      "Accuracy Score : 78.69%\n",
      "\n",
      "Mean Accuracy of 5 Fold Cross Validation : 80.13%\n"
     ]
    }
   ],
   "source": [
    "Mean_Accuracy = []\n",
    "\n",
    "i = 1\n",
    "\n",
    "SKF_Model = StratifiedKFold(n_splits = 5, random_state = 1, shuffle = True) # n Splits = Number of Folds.\n",
    "\n",
    "for Train_Data, Valid_Data in SKF_Model.split(X, Y) :\n",
    "    \n",
    "    print(f'\\n{i} of 5 Folds :')\n",
    "    \n",
    "    X_Train, X_Valid = X.loc[Train_Data], X.loc[Valid_Data]\n",
    "    \n",
    "    Y_Train, Y_Valid = Y.loc[Train_Data], Y.loc[Valid_Data]\n",
    "    \n",
    "    Model = LogisticRegression(random_state = 1, max_iter = 1000)\n",
    "    \n",
    "    Model.fit(X_Train, Y_Train)\n",
    "    \n",
    "    Y_Prediction = Model.predict(X_Valid)\n",
    "    \n",
    "    Accuracy_Score = accuracy_score(Y_Valid, Y_Prediction)\n",
    "    \n",
    "    Mean_Accuracy.append(Accuracy_Score)\n",
    "    \n",
    "    print(f'Accuracy Score : {Accuracy_Score*100:.2f}%')\n",
    "    \n",
    "    i += 1\n",
    "    \n",
    "print(f'\\nMean Accuracy of 5 Fold Cross Validation : {(sum(Mean_Accuracy)/len(Mean_Accuracy))*100:.2f}%')"
   ]
  },
  {
   "cell_type": "markdown",
   "metadata": {},
   "source": [
    "\n",
    "***\n",
    "**Prediction on Test Data :**"
   ]
  },
  {
   "cell_type": "code",
   "execution_count": 82,
   "metadata": {},
   "outputs": [],
   "source": [
    "Test_Prediction = Model.predict(Test)"
   ]
  },
  {
   "cell_type": "markdown",
   "metadata": {},
   "source": [
    "**Probability of Predictions on Valid Data : **We only want Probability of Positive Class for True Positive Rate.****"
   ]
  },
  {
   "cell_type": "code",
   "execution_count": 83,
   "metadata": {},
   "outputs": [
    {
     "name": "stdout",
     "output_type": "stream",
     "text": [
      "[0.74692621 0.84628924 0.77782709 0.85174464 0.88579484 0.89124717\n",
      " 0.69642708 0.74370981 0.82470984 0.91979586]\n"
     ]
    }
   ],
   "source": [
    "Prediction_Probability = Model.predict_proba(X_Valid)[:,1] # Only 1 ClassJ\n",
    "\n",
    "print(Prediction_Probability[:10])"
   ]
  },
  {
   "cell_type": "markdown",
   "metadata": {},
   "source": [
    "**Import Library for ROC Curve.**"
   ]
  },
  {
   "cell_type": "code",
   "execution_count": 84,
   "metadata": {},
   "outputs": [],
   "source": [
    "from sklearn.metrics import roc_curve, roc_auc_score"
   ]
  },
  {
   "cell_type": "markdown",
   "metadata": {},
   "source": [
    "**Visualize ROC Curve :**"
   ]
  },
  {
   "cell_type": "code",
   "execution_count": 85,
   "metadata": {},
   "outputs": [
    {
     "data": {
      "image/png": "[encoded data removed]",
      "text/plain": [
       "<Figure size 720x576 with 1 Axes>"
      ]
     },
     "metadata": {
      "needs_background": "light"
     },
     "output_type": "display_data"
    },
    {
     "name": "stdout",
     "output_type": "stream",
     "text": [
      "AUC Score : 74.66%\n"
     ]
    }
   ],
   "source": [
    "FPR, TPR, Threshold = roc_curve(Y_Valid, Prediction_Probability)\n",
    "AUC = roc_curve(Y_Valid, Prediction_Probability)\n",
    "\n",
    "def Plot_ROC_Curve(FPR, TPR) :\n",
    "    \n",
    "    '''\n",
    "    \n",
    "    Plot the Receiver Operating Characteristics : ROC Curve\n",
    "    \n",
    "    Parameter \n",
    "    ---------\n",
    "    \n",
    "    FPR : False Positive Rate\n",
    "    \n",
    "    TPR : True Positive Rate\n",
    "    \n",
    "    '''\n",
    "    \n",
    "    plt.figure(figsize = (10, 8))\n",
    "    \n",
    "    # Plot ROC Curve\n",
    "    plt.plot(FPR, TPR, color = 'orange', label = 'ROC')\n",
    "    \n",
    "    # Plot Line with No Predictive Power (Baseline)\n",
    "    plt.plot([0,1],[0,1], color = 'darkblue', linestyle = '--', label = 'Guessing')\n",
    "    \n",
    "    # Customize the Plot \n",
    "    plt.title('Receiver Operating Characteristics ( ROC Curve)')\n",
    "    plt.xlabel('False Positiv Rate ( FPR )')\n",
    "    plt.ylabel('True positive Rate ( TPR )')\n",
    "    plt.legend()\n",
    "    plt.show()\n",
    "\n",
    "Plot_ROC_Curve(FPR, TPR)\n",
    "print(f'AUC Score : {roc_auc_score(Y_Valid, Prediction_Probability)*100:.2f}%')"
   ]
  },
  {
   "cell_type": "markdown",
   "metadata": {},
   "source": [
    "**How Does Perfect ROC Curve looks ?**"
   ]
  },
  {
   "cell_type": "code",
   "execution_count": 86,
   "metadata": {},
   "outputs": [
    {
     "data": {
      "image/png": "[encoded data removed]",
      "text/plain": [
       "<Figure size 720x576 with 1 Axes>"
      ]
     },
     "metadata": {
      "needs_background": "light"
     },
     "output_type": "display_data"
    },
    {
     "name": "stdout",
     "output_type": "stream",
     "text": [
      "Perfect AUC Score : 100.00%\n"
     ]
    }
   ],
   "source": [
    "FPR, TPR, Threshold = roc_curve(Y_Valid, Y_Valid)\n",
    "Plot_ROC_Curve(FPR, TPR)\n",
    "print(f'Perfect AUC Score : {roc_auc_score(Y_Valid, Y_Valid)*100:.2f}%')"
   ]
  },
  {
   "cell_type": "markdown",
   "metadata": {},
   "source": [
    "**Even after Applying Stratified K Fold Cross Validation the Improvement in the Accuracy was nots so Satisfying.**\n",
    "***\n",
    "### Feature Engineering :\n",
    "\n",
    "**Based on Domain Knowledge New Feature might Affect the Target Variable**\n",
    "\n",
    "1. **Total Income : Applicant Income + Coapplicant Imcome (If Sum of both the Income is High, Chance of Loan Approval will Increase.)**\n",
    "\n",
    "2. **Equated Monthly Installments (EMI) : Monthly Amount to be Paid by the Applicant to Repay the Loan, Applicant with High EMI might Find it Difficult to Pay the Loan.**\n",
    "\n",
    "3. **Balance Income : Income Left after EMI has been Paid, If the Balance Income is High it Increases the Chance of Applicant will Repay the Loan, which also Increases the Chance of Loan Approvals.**\n",
    "***\n",
    "**Creating a New Feature : Total Income = Applicant Income + Coapplicant Income.**"
   ]
  },
  {
   "cell_type": "code",
   "execution_count": 87,
   "metadata": {},
   "outputs": [],
   "source": [
    "Train['Total_Income'] = Train['ApplicantIncome'] + Train['CoapplicantIncome']\n",
    "\n",
    "Test['Total_Income'] = Train['ApplicantIncome'] + Train['CoapplicantIncome']"
   ]
  },
  {
   "cell_type": "code",
   "execution_count": 88,
   "metadata": {},
   "outputs": [
    {
     "data": {
      "text/html": [
       "<div>\n",
       "<style scoped>\n",
       "    .dataframe tbody tr th:only-of-type {\n",
       "        vertical-align: middle;\n",
       "    }\n",
       "\n",
       "    .dataframe tbody tr th {\n",
       "        vertical-align: top;\n",
       "    }\n",
       "\n",
       "    .dataframe thead th {\n",
       "        text-align: right;\n",
       "    }\n",
       "</style>\n",
       "<table border=\"1\" class=\"dataframe\">\n",
       "  <thead>\n",
       "    <tr style=\"text-align: right;\">\n",
       "      <th></th>\n",
       "      <th>ApplicantIncome</th>\n",
       "      <th>CoapplicantIncome</th>\n",
       "      <th>LoanAmount</th>\n",
       "      <th>Loan_Amount_Term</th>\n",
       "      <th>Credit_History</th>\n",
       "      <th>Loan_Status</th>\n",
       "      <th>Gender_Male</th>\n",
       "      <th>Married_Yes</th>\n",
       "      <th>Dependents_0</th>\n",
       "      <th>Dependents_1</th>\n",
       "      <th>Dependents_2</th>\n",
       "      <th>Education_Not Graduate</th>\n",
       "      <th>Self_Employed_Yes</th>\n",
       "      <th>Property_Area_Semiurban</th>\n",
       "      <th>Property_Area_Urban</th>\n",
       "      <th>Total_Income</th>\n",
       "    </tr>\n",
       "  </thead>\n",
       "  <tbody>\n",
       "    <tr>\n",
       "      <th>0</th>\n",
       "      <td>5849</td>\n",
       "      <td>0.0</td>\n",
       "      <td>128.0</td>\n",
       "      <td>360.0</td>\n",
       "      <td>1.0</td>\n",
       "      <td>1</td>\n",
       "      <td>1</td>\n",
       "      <td>0</td>\n",
       "      <td>1</td>\n",
       "      <td>0</td>\n",
       "      <td>0</td>\n",
       "      <td>0</td>\n",
       "      <td>0</td>\n",
       "      <td>0</td>\n",
       "      <td>1</td>\n",
       "      <td>5849.0</td>\n",
       "    </tr>\n",
       "    <tr>\n",
       "      <th>1</th>\n",
       "      <td>4583</td>\n",
       "      <td>1508.0</td>\n",
       "      <td>128.0</td>\n",
       "      <td>360.0</td>\n",
       "      <td>1.0</td>\n",
       "      <td>0</td>\n",
       "      <td>1</td>\n",
       "      <td>1</td>\n",
       "      <td>0</td>\n",
       "      <td>1</td>\n",
       "      <td>0</td>\n",
       "      <td>0</td>\n",
       "      <td>0</td>\n",
       "      <td>0</td>\n",
       "      <td>0</td>\n",
       "      <td>6091.0</td>\n",
       "    </tr>\n",
       "    <tr>\n",
       "      <th>2</th>\n",
       "      <td>3000</td>\n",
       "      <td>0.0</td>\n",
       "      <td>66.0</td>\n",
       "      <td>360.0</td>\n",
       "      <td>1.0</td>\n",
       "      <td>1</td>\n",
       "      <td>1</td>\n",
       "      <td>1</td>\n",
       "      <td>1</td>\n",
       "      <td>0</td>\n",
       "      <td>0</td>\n",
       "      <td>0</td>\n",
       "      <td>1</td>\n",
       "      <td>0</td>\n",
       "      <td>1</td>\n",
       "      <td>3000.0</td>\n",
       "    </tr>\n",
       "    <tr>\n",
       "      <th>3</th>\n",
       "      <td>2583</td>\n",
       "      <td>2358.0</td>\n",
       "      <td>120.0</td>\n",
       "      <td>360.0</td>\n",
       "      <td>1.0</td>\n",
       "      <td>1</td>\n",
       "      <td>1</td>\n",
       "      <td>1</td>\n",
       "      <td>1</td>\n",
       "      <td>0</td>\n",
       "      <td>0</td>\n",
       "      <td>1</td>\n",
       "      <td>0</td>\n",
       "      <td>0</td>\n",
       "      <td>1</td>\n",
       "      <td>4941.0</td>\n",
       "    </tr>\n",
       "    <tr>\n",
       "      <th>4</th>\n",
       "      <td>6000</td>\n",
       "      <td>0.0</td>\n",
       "      <td>141.0</td>\n",
       "      <td>360.0</td>\n",
       "      <td>1.0</td>\n",
       "      <td>1</td>\n",
       "      <td>1</td>\n",
       "      <td>0</td>\n",
       "      <td>1</td>\n",
       "      <td>0</td>\n",
       "      <td>0</td>\n",
       "      <td>0</td>\n",
       "      <td>0</td>\n",
       "      <td>0</td>\n",
       "      <td>1</td>\n",
       "      <td>6000.0</td>\n",
       "    </tr>\n",
       "  </tbody>\n",
       "</table>\n",
       "</div>"
      ],
      "text/plain": [
       "   ApplicantIncome  CoapplicantIncome  LoanAmount  Loan_Amount_Term  \\\n",
       "0             5849                0.0       128.0             360.0   \n",
       "1             4583             1508.0       128.0             360.0   \n",
       "2             3000                0.0        66.0             360.0   \n",
       "3             2583             2358.0       120.0             360.0   \n",
       "4             6000                0.0       141.0             360.0   \n",
       "\n",
       "   Credit_History  Loan_Status  Gender_Male  Married_Yes  Dependents_0  \\\n",
       "0             1.0            1            1            0             1   \n",
       "1             1.0            0            1            1             0   \n",
       "2             1.0            1            1            1             1   \n",
       "3             1.0            1            1            1             1   \n",
       "4             1.0            1            1            0             1   \n",
       "\n",
       "   Dependents_1  Dependents_2  Education_Not Graduate  Self_Employed_Yes  \\\n",
       "0             0             0                       0                  0   \n",
       "1             1             0                       0                  0   \n",
       "2             0             0                       0                  1   \n",
       "3             0             0                       1                  0   \n",
       "4             0             0                       0                  0   \n",
       "\n",
       "   Property_Area_Semiurban  Property_Area_Urban  Total_Income  \n",
       "0                        0                    1        5849.0  \n",
       "1                        0                    0        6091.0  \n",
       "2                        0                    1        3000.0  \n",
       "3                        0                    1        4941.0  \n",
       "4                        0                    1        6000.0  "
      ]
     },
     "execution_count": 88,
     "metadata": {},
     "output_type": "execute_result"
    }
   ],
   "source": [
    "Train.head()"
   ]
  },
  {
   "cell_type": "markdown",
   "metadata": {},
   "source": [
    "**Checking the Distribution of Total Income :**\n",
    "\n",
    "**Before the Transformation**"
   ]
  },
  {
   "cell_type": "code",
   "execution_count": 89,
   "metadata": {},
   "outputs": [
    {
     "data": {
      "image/png": "[encoded data removed]",
      "text/plain": [
       "<Figure size 1008x288 with 2 Axes>"
      ]
     },
     "metadata": {
      "needs_background": "light"
     },
     "output_type": "display_data"
    }
   ],
   "source": [
    "Fig = plt.figure(figsize = (14,4))\n",
    "Ax1 = plt.subplot(121)\n",
    "sns.distplot(Train['Total_Income'])\n",
    "Ax1.set_title('Train')\n",
    "plt.xlabel('Total Income')\n",
    "\n",
    "Ax1 = plt.subplot(122)\n",
    "sns.distplot(Test['Total_Income'])\n",
    "Ax1.set_title('Test')\n",
    "plt.xlabel('Total Income');"
   ]
  },
  {
   "cell_type": "markdown",
   "metadata": {},
   "source": [
    "**Data is on the Left Side, Long Tail is on Right, Right Skewed / Positive Skewed**\n",
    "\n",
    "**Improving the Distribution of Data by Log Transformation.**"
   ]
  },
  {
   "cell_type": "code",
   "execution_count": 90,
   "metadata": {},
   "outputs": [],
   "source": [
    "Train['Log_Income'] = np.log(Train['Total_Income'])\n",
    "\n",
    "Test['Log_Income'] = np.log(Test['Total_Income'])"
   ]
  },
  {
   "cell_type": "code",
   "execution_count": 91,
   "metadata": {},
   "outputs": [
    {
     "data": {
      "image/png": "[encoded data removed]",
      "text/plain": [
       "<Figure size 1008x288 with 2 Axes>"
      ]
     },
     "metadata": {
      "needs_background": "light"
     },
     "output_type": "display_data"
    }
   ],
   "source": [
    "Fig = plt.figure(figsize = (14,4))\n",
    "Ax1 = plt.subplot(121)\n",
    "sns.distplot(Train['Log_Income'])\n",
    "Ax1.set_title('Train')\n",
    "plt.xlabel('Total Income')\n",
    "\n",
    "Ax1 = plt.subplot(122)\n",
    "sns.distplot(Test['Log_Income'])\n",
    "Ax1.set_title('Test')\n",
    "plt.xlabel('Total Income');"
   ]
  },
  {
   "cell_type": "markdown",
   "metadata": {},
   "source": [
    "**Now the Distribution looks much Closer to Normal Distribution**\n",
    "\n",
    "***\n",
    "\n",
    "**Calculating and Creating a New Feature EMI.**"
   ]
  },
  {
   "cell_type": "code",
   "execution_count": 92,
   "metadata": {},
   "outputs": [],
   "source": [
    "Train['EMI'] = Train['LoanAmount'] / Train['Loan_Amount_Term']\n",
    "\n",
    "Test['EMI'] = Test['LoanAmount'] / Test['Loan_Amount_Term']"
   ]
  },
  {
   "cell_type": "markdown",
   "metadata": {},
   "source": [
    "**EMI is a Continuous Numerical Variable, Checking its Distribution.**"
   ]
  },
  {
   "cell_type": "code",
   "execution_count": 93,
   "metadata": {},
   "outputs": [
    {
     "data": {
      "image/png": "[encoded data removed]",
      "text/plain": [
       "<Figure size 1008x288 with 2 Axes>"
      ]
     },
     "metadata": {
      "needs_background": "light"
     },
     "output_type": "display_data"
    }
   ],
   "source": [
    "Fig = plt.figure(figsize = (14,4))\n",
    "\n",
    "Ax1 = plt.subplot(121)\n",
    "sns.distplot(Train['EMI'])\n",
    "Ax1.set_title('Train')\n",
    "plt.xlabel(f'EMI : Equated Monthly Installment')\n",
    "\n",
    "Ax1 = plt.subplot(122)\n",
    "sns.distplot(Test['EMI'])\n",
    "Ax1.set_title('Test')\n",
    "plt.xlabel(f'EMI : Equated Monthly Installment');"
   ]
  },
  {
   "cell_type": "markdown",
   "metadata": {},
   "source": [
    "**Creating and Calculating Balance Income Feature.**"
   ]
  },
  {
   "cell_type": "code",
   "execution_count": 94,
   "metadata": {},
   "outputs": [],
   "source": [
    "Train['Balance_Income'] = Train['Total_Income'] - (Train['EMI'] * 1000) # Multiplying by 1000 to make Unit Same.\n",
    "\n",
    "Test['Balance_Income'] = Test['Total_Income'] - (Test['EMI'] * 1000)"
   ]
  },
  {
   "cell_type": "markdown",
   "metadata": {},
   "source": [
    "**Checking the Distribution of Balance Income.**"
   ]
  },
  {
   "cell_type": "code",
   "execution_count": 95,
   "metadata": {},
   "outputs": [
    {
     "data": {
      "image/png": "[encoded data removed]",
      "text/plain": [
       "<Figure size 1008x288 with 2 Axes>"
      ]
     },
     "metadata": {
      "needs_background": "light"
     },
     "output_type": "display_data"
    }
   ],
   "source": [
    "Fig = plt.figure(figsize = (14,4))\n",
    "\n",
    "Ax1 = plt.subplot(121)\n",
    "sns.distplot(Train['Balance_Income'])\n",
    "Ax1.set_title('Train')\n",
    "plt.xlabel('Balanced Income')\n",
    "\n",
    "Ax1 = plt.subplot(122)\n",
    "sns.distplot(Test['Balance_Income'])\n",
    "Ax1.set_title('Test')\n",
    "plt.xlabel('Balanced Income');"
   ]
  },
  {
   "cell_type": "markdown",
   "metadata": {},
   "source": [
    "**Dropping the Features which were used to Create New Features.**"
   ]
  },
  {
   "cell_type": "code",
   "execution_count": 96,
   "metadata": {},
   "outputs": [],
   "source": [
    "Train.drop(['ApplicantIncome', 'CoapplicantIncome', 'LoanAmount', 'Loan_Amount_Term'], axis = 1, inplace = True)\n",
    "\n",
    "Test.drop(['ApplicantIncome', 'CoapplicantIncome', 'LoanAmount', 'Loan_Amount_Term'], axis = 'columns', inplace = True)"
   ]
  },
  {
   "cell_type": "code",
   "execution_count": 97,
   "metadata": {},
   "outputs": [
    {
     "data": {
      "text/html": [
       "<div>\n",
       "<style scoped>\n",
       "    .dataframe tbody tr th:only-of-type {\n",
       "        vertical-align: middle;\n",
       "    }\n",
       "\n",
       "    .dataframe tbody tr th {\n",
       "        vertical-align: top;\n",
       "    }\n",
       "\n",
       "    .dataframe thead th {\n",
       "        text-align: right;\n",
       "    }\n",
       "</style>\n",
       "<table border=\"1\" class=\"dataframe\">\n",
       "  <thead>\n",
       "    <tr style=\"text-align: right;\">\n",
       "      <th></th>\n",
       "      <th>Credit_History</th>\n",
       "      <th>Loan_Status</th>\n",
       "      <th>Gender_Male</th>\n",
       "      <th>Married_Yes</th>\n",
       "      <th>Dependents_0</th>\n",
       "      <th>Dependents_1</th>\n",
       "      <th>Dependents_2</th>\n",
       "      <th>Education_Not Graduate</th>\n",
       "      <th>Self_Employed_Yes</th>\n",
       "      <th>Property_Area_Semiurban</th>\n",
       "      <th>Property_Area_Urban</th>\n",
       "      <th>Total_Income</th>\n",
       "      <th>Log_Income</th>\n",
       "      <th>EMI</th>\n",
       "      <th>Balance_Income</th>\n",
       "    </tr>\n",
       "  </thead>\n",
       "  <tbody>\n",
       "    <tr>\n",
       "      <th>0</th>\n",
       "      <td>1.0</td>\n",
       "      <td>1</td>\n",
       "      <td>1</td>\n",
       "      <td>0</td>\n",
       "      <td>1</td>\n",
       "      <td>0</td>\n",
       "      <td>0</td>\n",
       "      <td>0</td>\n",
       "      <td>0</td>\n",
       "      <td>0</td>\n",
       "      <td>1</td>\n",
       "      <td>5849.0</td>\n",
       "      <td>8.674026</td>\n",
       "      <td>0.355556</td>\n",
       "      <td>5493.444444</td>\n",
       "    </tr>\n",
       "    <tr>\n",
       "      <th>1</th>\n",
       "      <td>1.0</td>\n",
       "      <td>0</td>\n",
       "      <td>1</td>\n",
       "      <td>1</td>\n",
       "      <td>0</td>\n",
       "      <td>1</td>\n",
       "      <td>0</td>\n",
       "      <td>0</td>\n",
       "      <td>0</td>\n",
       "      <td>0</td>\n",
       "      <td>0</td>\n",
       "      <td>6091.0</td>\n",
       "      <td>8.714568</td>\n",
       "      <td>0.355556</td>\n",
       "      <td>5735.444444</td>\n",
       "    </tr>\n",
       "    <tr>\n",
       "      <th>2</th>\n",
       "      <td>1.0</td>\n",
       "      <td>1</td>\n",
       "      <td>1</td>\n",
       "      <td>1</td>\n",
       "      <td>1</td>\n",
       "      <td>0</td>\n",
       "      <td>0</td>\n",
       "      <td>0</td>\n",
       "      <td>1</td>\n",
       "      <td>0</td>\n",
       "      <td>1</td>\n",
       "      <td>3000.0</td>\n",
       "      <td>8.006368</td>\n",
       "      <td>0.183333</td>\n",
       "      <td>2816.666667</td>\n",
       "    </tr>\n",
       "    <tr>\n",
       "      <th>3</th>\n",
       "      <td>1.0</td>\n",
       "      <td>1</td>\n",
       "      <td>1</td>\n",
       "      <td>1</td>\n",
       "      <td>1</td>\n",
       "      <td>0</td>\n",
       "      <td>0</td>\n",
       "      <td>1</td>\n",
       "      <td>0</td>\n",
       "      <td>0</td>\n",
       "      <td>1</td>\n",
       "      <td>4941.0</td>\n",
       "      <td>8.505323</td>\n",
       "      <td>0.333333</td>\n",
       "      <td>4607.666667</td>\n",
       "    </tr>\n",
       "    <tr>\n",
       "      <th>4</th>\n",
       "      <td>1.0</td>\n",
       "      <td>1</td>\n",
       "      <td>1</td>\n",
       "      <td>0</td>\n",
       "      <td>1</td>\n",
       "      <td>0</td>\n",
       "      <td>0</td>\n",
       "      <td>0</td>\n",
       "      <td>0</td>\n",
       "      <td>0</td>\n",
       "      <td>1</td>\n",
       "      <td>6000.0</td>\n",
       "      <td>8.699515</td>\n",
       "      <td>0.391667</td>\n",
       "      <td>5608.333333</td>\n",
       "    </tr>\n",
       "  </tbody>\n",
       "</table>\n",
       "</div>"
      ],
      "text/plain": [
       "   Credit_History  Loan_Status  Gender_Male  Married_Yes  Dependents_0  \\\n",
       "0             1.0            1            1            0             1   \n",
       "1             1.0            0            1            1             0   \n",
       "2             1.0            1            1            1             1   \n",
       "3             1.0            1            1            1             1   \n",
       "4             1.0            1            1            0             1   \n",
       "\n",
       "   Dependents_1  Dependents_2  Education_Not Graduate  Self_Employed_Yes  \\\n",
       "0             0             0                       0                  0   \n",
       "1             1             0                       0                  0   \n",
       "2             0             0                       0                  1   \n",
       "3             0             0                       1                  0   \n",
       "4             0             0                       0                  0   \n",
       "\n",
       "   Property_Area_Semiurban  Property_Area_Urban  Total_Income  Log_Income  \\\n",
       "0                        0                    1        5849.0    8.674026   \n",
       "1                        0                    0        6091.0    8.714568   \n",
       "2                        0                    1        3000.0    8.006368   \n",
       "3                        0                    1        4941.0    8.505323   \n",
       "4                        0                    1        6000.0    8.699515   \n",
       "\n",
       "        EMI  Balance_Income  \n",
       "0  0.355556     5493.444444  \n",
       "1  0.355556     5735.444444  \n",
       "2  0.183333     2816.666667  \n",
       "3  0.333333     4607.666667  \n",
       "4  0.391667     5608.333333  "
      ]
     },
     "execution_count": 97,
     "metadata": {},
     "output_type": "execute_result"
    }
   ],
   "source": [
    "Train.head()"
   ]
  },
  {
   "cell_type": "markdown",
   "metadata": {},
   "source": [
    "**After Feature Engineering, again Try Logistic Regression and Stratified K Fold Cross Validation**\n",
    "***\n",
    "**Splitting Data into Independent Features and Dependent Feature.**"
   ]
  },
  {
   "cell_type": "code",
   "execution_count": 98,
   "metadata": {},
   "outputs": [],
   "source": [
    "X = Train.drop('Loan_Status', axis = 'columns')\n",
    "\n",
    "Y = Train['Loan_Status']"
   ]
  },
  {
   "cell_type": "markdown",
   "metadata": {},
   "source": [
    "**Applying Logistic Regression with Stratified K Fold Cross Validation.**\n",
    "\n",
    "**Shuffle Each Stratification before Splitting.**"
   ]
  },
  {
   "cell_type": "code",
   "execution_count": 99,
   "metadata": {},
   "outputs": [
    {
     "name": "stdout",
     "output_type": "stream",
     "text": [
      "\n",
      "1 of 5 Folds :\n",
      "Accuracy Score : 81.30%\n",
      "\n",
      "2 of 5 Folds :\n",
      "Accuracy Score : 80.49%\n",
      "\n",
      "3 of 5 Folds :\n",
      "Accuracy Score : 66.67%\n",
      "\n",
      "4 of 5 Folds :\n",
      "Accuracy Score : 68.29%\n",
      "\n",
      "5 of 5 Folds :\n",
      "Accuracy Score : 76.23%\n",
      "\n",
      "Mean Accuracy of 5 Fold Cross Validation : 74.60%\n"
     ]
    }
   ],
   "source": [
    "Mean_Accuracy = []\n",
    "\n",
    "i = 1\n",
    "\n",
    "KFS = StratifiedKFold(n_splits = 5, random_state = 1, shuffle = True)\n",
    "\n",
    "for Train_Data, Valid_Data in KFS.split(X, Y) :\n",
    "    \n",
    "    print(f'\\n{i} of 5 Folds :')\n",
    "    \n",
    "    X_Train, X_Valid = X.loc[Train_Data], X.loc[Valid_Data]\n",
    "    \n",
    "    Y_Train, Y_Valid = Y.loc[Train_Data], Y.loc[Valid_Data]\n",
    "    \n",
    "    Model = LogisticRegression(random_state = 1)\n",
    "    \n",
    "    Model.fit(X_Train, Y_Train)\n",
    "    \n",
    "    Y_Prediction = Model.predict(X_Valid)\n",
    "    \n",
    "    Accuracy_Score = accuracy_score(Y_Valid, Y_Prediction)\n",
    "    \n",
    "    Mean_Accuracy.append(Accuracy_Score)\n",
    "    \n",
    "    print(f'Accuracy Score : {Accuracy_Score*100:.2f}%')\n",
    "    \n",
    "    i +=1\n",
    "    \n",
    "print(f'\\nMean Accuracy of 5 Fold Cross Validation : {(sum(Mean_Accuracy)/len(Mean_Accuracy))*100:.2f}%')"
   ]
  },
  {
   "cell_type": "markdown",
   "metadata": {},
   "source": [
    "**It is Visible that Feature Engineering has not Improved the Model, Accuracy is not as Expected**\n",
    "\n",
    "***\n",
    "\n",
    "### Decision Tree\n",
    "\n",
    "**Supervised Machine Learning Algorithm, mostly used in Classification Problems.**\n",
    "\n",
    "**Import Decision Tree Classifier**"
   ]
  },
  {
   "cell_type": "code",
   "execution_count": 100,
   "metadata": {},
   "outputs": [],
   "source": [
    "from sklearn.tree import DecisionTreeClassifier"
   ]
  },
  {
   "cell_type": "markdown",
   "metadata": {},
   "source": [
    "**Applying Decision Tree Classifier with Stratified K Fold Cross Validation.**\n",
    "\n",
    "**Shuffle each Stratification before Splitting.**"
   ]
  },
  {
   "cell_type": "code",
   "execution_count": 101,
   "metadata": {},
   "outputs": [
    {
     "name": "stdout",
     "output_type": "stream",
     "text": [
      "\n",
      "1 of 5 K Folds\n",
      "Accuracy Score : 67.48%\n",
      "\n",
      "2 of 5 K Folds\n",
      "Accuracy Score : 68.29%\n",
      "\n",
      "3 of 5 K Folds\n",
      "Accuracy Score : 75.61%\n",
      "\n",
      "4 of 5 K Folds\n",
      "Accuracy Score : 71.54%\n",
      "\n",
      "5 of 5 K Folds\n",
      "Accuracy Score : 67.21%\n",
      "\n",
      "Mean Validation Accuracy : 70.03%\n"
     ]
    }
   ],
   "source": [
    "Mean_Accuracy = []\n",
    "\n",
    "i = 1\n",
    "\n",
    "KFS = StratifiedKFold(n_splits = 5, random_state = 1, shuffle = True)\n",
    "\n",
    "for Train_Data, Valid_Data in KFS.split(X, Y) :\n",
    "    \n",
    "    print(f'\\n{i} of 5 K Folds')\n",
    "    \n",
    "    X_Train, X_Valid = X.loc[Train_Data], X.loc[Valid_Data]\n",
    "    \n",
    "    Y_Train, Y_Valid = Y.loc[Train_Data], Y.loc[Valid_Data]\n",
    "    \n",
    "    Model = DecisionTreeClassifier(random_state = 1)\n",
    "    \n",
    "    Model.fit(X_Train, Y_Train)\n",
    "    \n",
    "    Y_Prediction = Model.predict(X_Valid)\n",
    "    \n",
    "    Accuracy_Score = accuracy_score(Y_Valid, Y_Prediction)\n",
    "    \n",
    "    Mean_Accuracy.append(Accuracy_Score)\n",
    "    \n",
    "    print(f'Accuracy Score : {Accuracy_Score*100:.2f}%')\n",
    "    \n",
    "    i += 1\n",
    "    \n",
    "print(f'\\nMean Validation Accuracy : {(sum(Mean_Accuracy)/len(Mean_Accuracy))*100:.2f}%')"
   ]
  },
  {
   "cell_type": "markdown",
   "metadata": {},
   "source": [
    "**Even by Using Decision Tree Algorithm the Accuracy is not Enough.**\n",
    "\n",
    "***\n",
    "\n",
    "### Random Forest \n",
    "\n",
    "**Tree Based Ensemble Algorithm and Try to Improve the Model by Improving the Accuracy.**\n",
    "\n",
    "- **A Tree Based Bootstrapping Algorithm where Weak Learners are Combined to make a Better Prediction Model.**\n",
    "\n",
    "- **For Every Individual Learner, A Random Sample of Rows and a few Randomly choosen Variables are used to Build a Decision Tree Model.**\n",
    "\n",
    "- **Final Prediction is the One with Majority.**\n",
    "\n",
    "- **In Case of Regression, Final Prediction is Mean of all Predictions.**\n",
    "\n",
    "**Important Parameters :**\n",
    "\n",
    "1. **n_estimators : Bigger the Forest Better the Model, chance of Overfitting Reduces.**\n",
    "\n",
    "2. **max_depth : Low Depth helps us to keep low Overfitting.**\n",
    "\n",
    "**Import Random Forest Classifier**"
   ]
  },
  {
   "cell_type": "code",
   "execution_count": 102,
   "metadata": {},
   "outputs": [],
   "source": [
    "from sklearn.ensemble import RandomForestClassifier"
   ]
  },
  {
   "cell_type": "code",
   "execution_count": 103,
   "metadata": {},
   "outputs": [
    {
     "name": "stdout",
     "output_type": "stream",
     "text": [
      "\n",
      "1 of 5 Folds\n",
      "Accuracy Score : 82.93%\n",
      "\n",
      "2 of 5 Folds\n",
      "Accuracy Score : 77.24%\n",
      "\n",
      "3 of 5 Folds\n",
      "Accuracy Score : 78.05%\n",
      "\n",
      "4 of 5 Folds\n",
      "Accuracy Score : 78.05%\n",
      "\n",
      "5 of 5 Folds\n",
      "Accuracy Score : 77.05%\n",
      "\n",
      "Mean Validation Accuracy : 78.66%\n"
     ]
    }
   ],
   "source": [
    "Mean_Accuracy = []\n",
    "\n",
    "i = 1\n",
    "\n",
    "KFS = StratifiedKFold(n_splits = 5, random_state = 1, shuffle = True)\n",
    "\n",
    "for Train_Data, Valid_Data in KFS.split(X, Y) :\n",
    "    \n",
    "    print(f'\\n{i} of 5 Folds')\n",
    "    \n",
    "    X_Train, X_Valid = X.loc[Train_Data], X.loc[Valid_Data]\n",
    "    \n",
    "    Y_Train, Y_Valid = Y.loc[Train_Data], Y.loc[Valid_Data]\n",
    "    \n",
    "    Model = RandomForestClassifier(random_state = 1, n_estimators = 10, max_depth = 10)\n",
    "    \n",
    "    Model.fit(X_Train, Y_Train)\n",
    "    \n",
    "    Y_Prediction = Model.predict(X_Valid)\n",
    "    \n",
    "    Accuracy_Score = accuracy_score(Y_Valid, Y_Prediction)\n",
    "    \n",
    "    Mean_Accuracy.append(Accuracy_Score)\n",
    "    \n",
    "    print(f'Accuracy Score : {Accuracy_Score*100:.2f}%')\n",
    "    \n",
    "    i += 1\n",
    "    \n",
    "print(f'\\nMean Validation Accuracy : {(sum(Mean_Accuracy)/len(Mean_Accuracy))*100:.2f}%')"
   ]
  },
  {
   "cell_type": "markdown",
   "metadata": {},
   "source": [
    "**Accuracy Obtained using Random Forest Classifier is Far more Better from All the Above Model's Accuracy.**\n",
    "\n",
    "**Prediction on Test Data**"
   ]
  },
  {
   "cell_type": "code",
   "execution_count": 104,
   "metadata": {},
   "outputs": [],
   "source": [
    "Test_Prediction = Model.predict(Test)"
   ]
  },
  {
   "cell_type": "markdown",
   "metadata": {},
   "source": [
    "**Predictions**"
   ]
  },
  {
   "cell_type": "code",
   "execution_count": 105,
   "metadata": {},
   "outputs": [
    {
     "name": "stdout",
     "output_type": "stream",
     "text": [
      "[1 1 1 1 1 1 1 0 1 0 1 1 1 0 0 1 1 1 1 1 1 1 1 1 1]\n"
     ]
    }
   ],
   "source": [
    "print(Test_Prediction[:25])"
   ]
  },
  {
   "cell_type": "markdown",
   "metadata": {},
   "source": [
    "**Importing Submission File which we have to Send for Solutionn Checking.**"
   ]
  },
  {
   "cell_type": "code",
   "execution_count": 106,
   "metadata": {},
   "outputs": [],
   "source": [
    "Submission = pd.read_csv(\"Sample Submission.csv\")\n",
    "\n",
    "Loan = pd.read_csv(\"Loan Approval Test.csv\")"
   ]
  },
  {
   "cell_type": "markdown",
   "metadata": {},
   "source": [
    "**We want Load_ID Column from Test Data Set**"
   ]
  },
  {
   "cell_type": "code",
   "execution_count": 107,
   "metadata": {},
   "outputs": [],
   "source": [
    "Submission['Loan_ID'] = Loan['Loan_ID']\n",
    "\n",
    "Submission['Loan_Status'] = Test_Prediction"
   ]
  },
  {
   "cell_type": "code",
   "execution_count": 108,
   "metadata": {},
   "outputs": [
    {
     "name": "stdout",
     "output_type": "stream",
     "text": [
      "    Loan_ID  Loan_Status\n",
      "0  LP001015            1\n",
      "1  LP001022            1\n",
      "2  LP001031            1\n",
      "3  LP001035            1\n",
      "4  LP001051            1\n"
     ]
    }
   ],
   "source": [
    "print(Submission.head())"
   ]
  },
  {
   "cell_type": "markdown",
   "metadata": {},
   "source": [
    "**Prediction is needed in Y and N**"
   ]
  },
  {
   "cell_type": "code",
   "execution_count": 109,
   "metadata": {},
   "outputs": [],
   "source": [
    "Submission['Loan_Status'] = np.where(Submission['Loan_Status'] == 1, 'Y', 'N')"
   ]
  },
  {
   "cell_type": "code",
   "execution_count": 110,
   "metadata": {},
   "outputs": [
    {
     "name": "stdout",
     "output_type": "stream",
     "text": [
      "    Loan_ID Loan_Status\n",
      "0  LP001015           Y\n",
      "1  LP001022           Y\n",
      "2  LP001031           Y\n",
      "3  LP001035           Y\n",
      "4  LP001051           Y\n"
     ]
    }
   ],
   "source": [
    "print(Submission.head())"
   ]
  },
  {
   "cell_type": "markdown",
   "metadata": {},
   "source": [
    "**Submit to Check Accuracy on Leaderboard.**"
   ]
  },
  {
   "cell_type": "code",
   "execution_count": 111,
   "metadata": {},
   "outputs": [],
   "source": [
    "Submission.to_csv('RandomForest.csv', index = False)"
   ]
  },
  {
   "cell_type": "markdown",
   "metadata": {},
   "source": [
    "**Score for My Submission is still Showing 78%**\n",
    "\n",
    "### Grid Search Cross Validation\n",
    "\n",
    "**Improving the Accuracy by Tunning Hyperparameters for Model.**\n",
    "\n",
    "**Using Grid Search Cross Validation for Better Optimized Values of Hyper Parameters.**\n",
    "\n",
    "**Grid Search helps to Select Best Family of Hyper Paramters, Parameterized by Grid of Parameters.**\n",
    "\n",
    "**Grid Search Cross Validation is an Exhaustive Search over Specified Parameter Values for an Estimator**\n",
    "\n",
    "#### Important Methods of Grid Search Cross Validation :\n",
    "\n",
    "1.**fit() : Train Model using Training Data Set**\n",
    "\n",
    "2.**score() : Accuracy of Model**\n",
    "\n",
    "3.**predict() : Make Prediction on Test Data**\n",
    "\n",
    "4.**predict_proba() : Probability of Prediction on Test Set** \n",
    "\n",
    "5.**transform() : Transform the Data**\n",
    "\n",
    "#### Parameters to be Tuned \n",
    "\n",
    "1.**n_estimators : Number of Trees**\n",
    "\n",
    "2.**max_depth : Maximum Depth of Tree**\n",
    "\n",
    "***\n",
    "\n",
    "**Import Library**"
   ]
  },
  {
   "cell_type": "code",
   "execution_count": 112,
   "metadata": {},
   "outputs": [],
   "source": [
    "from sklearn.model_selection import GridSearchCV"
   ]
  },
  {
   "cell_type": "markdown",
   "metadata": {},
   "source": [
    "**n_estimators : Start from 1 and End at 199 with Step Count of 20**\n",
    "\n",
    "**max_depth : Start from 1 and End at 20 with Step Count of 2**"
   ]
  },
  {
   "cell_type": "code",
   "execution_count": 113,
   "metadata": {},
   "outputs": [],
   "source": [
    "Parameter_Grid = {'n_estimators' : list(range(1,200,20)), 'max_depth' : list(range(1,20,2))}"
   ]
  },
  {
   "cell_type": "markdown",
   "metadata": {},
   "source": [
    "**Performing 5 Fold Cross Validation**"
   ]
  },
  {
   "cell_type": "code",
   "execution_count": 114,
   "metadata": {},
   "outputs": [],
   "source": [
    "Grid_Search = GridSearchCV(RandomForestClassifier(random_state = 1), Parameter_Grid)"
   ]
  },
  {
   "cell_type": "code",
   "execution_count": 115,
   "metadata": {},
   "outputs": [],
   "source": [
    "X_Train, X_Test, Y_Train, Y_Test = train_test_split(X, Y, test_size = 0.3, random_state = 1)"
   ]
  },
  {
   "cell_type": "markdown",
   "metadata": {},
   "source": [
    "**Train the Model using Train Data Set**"
   ]
  },
  {
   "cell_type": "code",
   "execution_count": 116,
   "metadata": {},
   "outputs": [
    {
     "data": {
      "text/plain": [
       "GridSearchCV(cv=None, error_score=nan,\n",
       "             estimator=RandomForestClassifier(bootstrap=True, ccp_alpha=0.0,\n",
       "                                              class_weight=None,\n",
       "                                              criterion='gini', max_depth=None,\n",
       "                                              max_features='auto',\n",
       "                                              max_leaf_nodes=None,\n",
       "                                              max_samples=None,\n",
       "                                              min_impurity_decrease=0.0,\n",
       "                                              min_impurity_split=None,\n",
       "                                              min_samples_leaf=1,\n",
       "                                              min_samples_split=2,\n",
       "                                              min_weight_fraction_leaf=0.0,\n",
       "                                              n_estimators=100, n_jobs=None,\n",
       "                                              oob_score=False, random_state=1,\n",
       "                                              verbose=0, warm_start=False),\n",
       "             iid='deprecated', n_jobs=None,\n",
       "             param_grid={'max_depth': [1, 3, 5, 7, 9, 11, 13, 15, 17, 19],\n",
       "                         'n_estimators': [1, 21, 41, 61, 81, 101, 121, 141, 161,\n",
       "                                          181]},\n",
       "             pre_dispatch='2*n_jobs', refit=True, return_train_score=False,\n",
       "             scoring=None, verbose=0)"
      ]
     },
     "execution_count": 116,
     "metadata": {},
     "output_type": "execute_result"
    }
   ],
   "source": [
    "Grid_Search.fit(X_Train, Y_Train)"
   ]
  },
  {
   "cell_type": "markdown",
   "metadata": {},
   "source": [
    "**Best Estimators found**"
   ]
  },
  {
   "cell_type": "code",
   "execution_count": 117,
   "metadata": {},
   "outputs": [
    {
     "name": "stdout",
     "output_type": "stream",
     "text": [
      "RandomForestClassifier(bootstrap=True, ccp_alpha=0.0, class_weight=None,\n",
      "                       criterion='gini', max_depth=3, max_features='auto',\n",
      "                       max_leaf_nodes=None, max_samples=None,\n",
      "                       min_impurity_decrease=0.0, min_impurity_split=None,\n",
      "                       min_samples_leaf=1, min_samples_split=2,\n",
      "                       min_weight_fraction_leaf=0.0, n_estimators=21,\n",
      "                       n_jobs=None, oob_score=False, random_state=1, verbose=0,\n",
      "                       warm_start=False)\n"
     ]
    }
   ],
   "source": [
    "print(Grid_Search.best_estimator_)"
   ]
  },
  {
   "cell_type": "markdown",
   "metadata": {},
   "source": [
    "**Creating Model using Best Optimized Value**"
   ]
  },
  {
   "cell_type": "code",
   "execution_count": 118,
   "metadata": {},
   "outputs": [
    {
     "name": "stdout",
     "output_type": "stream",
     "text": [
      "\n",
      "1 of 5 Folds\n",
      "Accuracy Score : 82.93%\n",
      "\n",
      "2 of 5 Folds\n",
      "Accuracy Score : 85.37%\n",
      "\n",
      "3 of 5 Folds\n",
      "Accuracy Score : 78.05%\n",
      "\n",
      "4 of 5 Folds\n",
      "Accuracy Score : 79.67%\n",
      "\n",
      "5 of 5 Folds\n",
      "Accuracy Score : 78.69%\n",
      "\n",
      "Mean Validation Accuracy : 80.94%\n"
     ]
    }
   ],
   "source": [
    "Mean_Accuracy = []\n",
    "\n",
    "i = 1\n",
    "\n",
    "KFS = StratifiedKFold(n_splits = 5, random_state = 1, shuffle = True)\n",
    "\n",
    "for Train_Data, Valid_Data in KFS.split(X, Y) :\n",
    "    \n",
    "    print(f'\\n{i} of 5 Folds')\n",
    "    \n",
    "    X_Train, X_Valid = X.loc[Train_Data], X.loc[Valid_Data]\n",
    "    \n",
    "    Y_Train, Y_Valid = Y.loc[Train_Data], Y.loc[Valid_Data]\n",
    "    \n",
    "    Model = RandomForestClassifier(random_state = 1, max_depth = 3, n_estimators = 21)\n",
    "    \n",
    "    Model.fit(X_Train, Y_Train)\n",
    "    \n",
    "    Y_Prediction = Model.predict(X_Valid)\n",
    "    \n",
    "    Accuracy_Score = accuracy_score(Y_Valid, Y_Prediction)\n",
    "    \n",
    "    Mean_Accuracy.append(Accuracy_Score)\n",
    "    \n",
    "    print(f'Accuracy Score : {Accuracy_Score*100:.2f}%')\n",
    "    \n",
    "    i += 1\n",
    "    \n",
    "print(f'\\nMean Validation Accuracy : {(sum(Mean_Accuracy)/len(Mean_Accuracy))*100:.2f}%')"
   ]
  },
  {
   "cell_type": "markdown",
   "metadata": {},
   "source": [
    "### Feature Importance"
   ]
  },
  {
   "cell_type": "code",
   "execution_count": 119,
   "metadata": {},
   "outputs": [],
   "source": [
    "Important_Features = pd.Series(Model.feature_importances_, index = X.columns)"
   ]
  },
  {
   "cell_type": "markdown",
   "metadata": {},
   "source": [
    "**Visualizing the Feature Importance**"
   ]
  },
  {
   "cell_type": "code",
   "execution_count": 120,
   "metadata": {},
   "outputs": [
    {
     "data": {
      "image/png": "[encoded data removed]",
      "text/plain": [
       "<Figure size 864x576 with 1 Axes>"
      ]
     },
     "metadata": {
      "needs_background": "light"
     },
     "output_type": "display_data"
    }
   ],
   "source": [
    "Important_Features.plot(kind = 'barh', figsize = (12, 8));"
   ]
  },
  {
   "cell_type": "markdown",
   "metadata": {},
   "source": [
    "**Credit History is the Most Important Feature followed by Log Income, Total Income and Balance Income and Property Area in Semiurban.**\n",
    "\n",
    "***\n",
    "\n",
    "###  XGBOOST\n",
    "\n",
    "**XGBOOST works with only Numerical Data**\n",
    "\n",
    "**Parameters**\n",
    "\n",
    "1. **n_estimators : Number of Trees for the Model.**\n",
    "\n",
    "2. **max_depth : Maximum Depth of the Tree.**\n",
    "\n",
    "***\n",
    "\n",
    "**Import Library**"
   ]
  },
  {
   "cell_type": "code",
   "execution_count": 121,
   "metadata": {},
   "outputs": [],
   "source": [
    "from xgboost import XGBClassifier"
   ]
  },
  {
   "cell_type": "code",
   "execution_count": 122,
   "metadata": {},
   "outputs": [
    {
     "name": "stdout",
     "output_type": "stream",
     "text": [
      "\n",
      "1 of 5 Folds\n",
      "Accuracy Score : 81.30%\n",
      "\n",
      "2 of 5 Folds\n",
      "Accuracy Score : 81.30%\n",
      "\n",
      "3 of 5 Folds\n",
      "Accuracy Score : 78.86%\n",
      "\n",
      "4 of 5 Folds\n",
      "Accuracy Score : 79.67%\n",
      "\n",
      "5 of 5 Folds\n",
      "Accuracy Score : 77.87%\n",
      "\n",
      "Mean Validation Accuracy : 79.80%\n"
     ]
    }
   ],
   "source": [
    "Mean_Accuracy = []\n",
    "\n",
    "i = 1\n",
    "\n",
    "KFS = StratifiedKFold(n_splits = 5, random_state = 1, shuffle = True)\n",
    "\n",
    "for Train_Data, Valid_Data in KFS.split(X, Y) :\n",
    "    \n",
    "    print(f'\\n{i} of 5 Folds')\n",
    "    \n",
    "    X_Train, X_Valid = X.loc[Train_Data], X.loc[Valid_Data]\n",
    "    \n",
    "    Y_Train, Y_Valid = Y.loc[Train_Data], Y.loc[Valid_Data]\n",
    "    \n",
    "    Model = XGBClassifier(random_state = 1, n_estimators = 50, max_depth = 4)\n",
    "    \n",
    "    Model.fit(X_Train, Y_Train)\n",
    "    \n",
    "    Y_Prediction = Model.predict(X_Valid)\n",
    "    \n",
    "    Accuracy_Score = accuracy_score(Y_Valid, Y_Prediction)\n",
    "    \n",
    "    Mean_Accuracy.append(Accuracy_Score)\n",
    "    \n",
    "    print(f'Accuracy Score : {Accuracy_Score*100:.2f}%')\n",
    "    \n",
    "    i += 1\n",
    "    \n",
    "print(f'\\nMean Validation Accuracy : {(sum(Mean_Accuracy)/len(Mean_Accuracy))*100:.2f}%')"
   ]
  },
  {
   "cell_type": "markdown",
   "metadata": {},
   "source": [
    "**Improving the Accuracy by Tuning Hyperparameters**\n",
    "\n",
    "**Using Grid Search Cross Validation to get the Optimized Values of Hyperparameters.**"
   ]
  },
  {
   "cell_type": "code",
   "execution_count": 123,
   "metadata": {},
   "outputs": [],
   "source": [
    "Parameter_Grid = {'max_depth' : list(range(1, 20, 2)), 'n_estimators' : list(range(1, 200, 20))}"
   ]
  },
  {
   "cell_type": "markdown",
   "metadata": {},
   "source": [
    "**Apply Grid Search Cross Validation on XGBOOST Classifier.**"
   ]
  },
  {
   "cell_type": "code",
   "execution_count": 124,
   "metadata": {},
   "outputs": [],
   "source": [
    "Grid_Search = GridSearchCV(XGBClassifier(random_state = 1), Parameter_Grid)"
   ]
  },
  {
   "cell_type": "markdown",
   "metadata": {},
   "source": [
    "**Split the Data into Train Set and Validation Set**"
   ]
  },
  {
   "cell_type": "code",
   "execution_count": 125,
   "metadata": {},
   "outputs": [],
   "source": [
    "X_Train, X_Valid, Y_Train, Y_Valid = train_test_split(X, Y, test_size = 0.3, random_state = 1)"
   ]
  },
  {
   "cell_type": "markdown",
   "metadata": {},
   "source": [
    "**Train the Model and Find Patterns in Training Data**"
   ]
  },
  {
   "cell_type": "code",
   "execution_count": 126,
   "metadata": {},
   "outputs": [
    {
     "name": "stdout",
     "output_type": "stream",
     "text": [
      "GridSearchCV(cv=None, error_score=nan,\n",
      "             estimator=XGBClassifier(base_score=0.5, booster='gbtree',\n",
      "                                     colsample_bylevel=1, colsample_bynode=1,\n",
      "                                     colsample_bytree=1, gamma=0,\n",
      "                                     learning_rate=0.1, max_delta_step=0,\n",
      "                                     max_depth=3, min_child_weight=1,\n",
      "                                     missing=None, n_estimators=100, n_jobs=1,\n",
      "                                     nthread=None, objective='binary:logistic',\n",
      "                                     random_state=1, reg_alpha=0, reg_lambda=1,\n",
      "                                     scale_pos_weight=1, seed=None, silent=None,\n",
      "                                     subsample=1, verbosity=1),\n",
      "             iid='deprecated', n_jobs=None,\n",
      "             param_grid={'max_depth': [1, 3, 5, 7, 9, 11, 13, 15, 17, 19],\n",
      "                         'n_estimators': [1, 21, 41, 61, 81, 101, 121, 141, 161,\n",
      "                                          181]},\n",
      "             pre_dispatch='2*n_jobs', refit=True, return_train_score=False,\n",
      "             scoring=None, verbose=0)\n"
     ]
    }
   ],
   "source": [
    "print(Grid_Search.fit(X_Train, Y_Train))"
   ]
  },
  {
   "cell_type": "markdown",
   "metadata": {},
   "source": [
    "**Best Estimator Obtained**"
   ]
  },
  {
   "cell_type": "code",
   "execution_count": 127,
   "metadata": {},
   "outputs": [
    {
     "name": "stdout",
     "output_type": "stream",
     "text": [
      "XGBClassifier(base_score=0.5, booster='gbtree', colsample_bylevel=1,\n",
      "              colsample_bynode=1, colsample_bytree=1, gamma=0,\n",
      "              learning_rate=0.1, max_delta_step=0, max_depth=1,\n",
      "              min_child_weight=1, missing=None, n_estimators=1, n_jobs=1,\n",
      "              nthread=None, objective='binary:logistic', random_state=1,\n",
      "              reg_alpha=0, reg_lambda=1, scale_pos_weight=1, seed=None,\n",
      "              silent=None, subsample=1, verbosity=1)\n"
     ]
    }
   ],
   "source": [
    "print(Grid_Search.best_estimator_)"
   ]
  },
  {
   "cell_type": "code",
   "execution_count": 128,
   "metadata": {},
   "outputs": [
    {
     "name": "stdout",
     "output_type": "stream",
     "text": [
      "\n",
      "1 of 5 Folds :\n",
      "Accuracy Score : 81.30%\n",
      "\n",
      "2 of 5 Folds :\n",
      "Accuracy Score : 83.74%\n",
      "\n",
      "3 of 5 Folds :\n",
      "Accuracy Score : 79.67%\n",
      "\n",
      "4 of 5 Folds :\n",
      "Accuracy Score : 80.49%\n",
      "\n",
      "5 of 5 Folds :\n",
      "Accuracy Score : 79.51%\n",
      "\n",
      "Mean Validation Score : 80.94%\n"
     ]
    }
   ],
   "source": [
    "Mean_Accuracy = []\n",
    "\n",
    "i = 1\n",
    "\n",
    "KFS = StratifiedKFold(n_splits = 5, random_state = 1, shuffle = True)\n",
    "\n",
    "for Train_Data, Valid_Data in KFS.split(X,Y) :\n",
    "    \n",
    "    print(f'\\n{i} of 5 Folds :')\n",
    "    \n",
    "    X_Train, X_Valid = X.loc[Train_Data], X.loc[Valid_Data]\n",
    "    \n",
    "    Y_Train, Y_Valid = Y.loc[Train_Data], Y.loc[Valid_Data]\n",
    "    \n",
    "    Model = XGBClassifier(random_state = 1, n_estimators = 1, max_depth = 1)\n",
    "    \n",
    "    Model.fit(X_Train, Y_Train)\n",
    "    \n",
    "    Y_Prediction = Model.predict(X_Valid)\n",
    "    \n",
    "    Accuracy_Score = accuracy_score(Y_Valid, Y_Prediction)\n",
    "    \n",
    "    Mean_Accuracy.append(Accuracy_Score)\n",
    "    \n",
    "    print(f'Accuracy Score : {Accuracy_Score*100:.2f}%')\n",
    "    \n",
    "    i += 1\n",
    "    \n",
    "print(f'\\nMean Validation Score : {(sum(Mean_Accuracy)/len(Mean_Accuracy))*100:.2f}%')"
   ]
  },
  {
   "cell_type": "markdown",
   "metadata": {},
   "source": [
    "**Test Prediction**"
   ]
  },
  {
   "cell_type": "code",
   "execution_count": 129,
   "metadata": {},
   "outputs": [],
   "source": [
    "Test_Prediction = Model.predict(Test)"
   ]
  },
  {
   "cell_type": "markdown",
   "metadata": {},
   "source": [
    "**Prediction Probability**"
   ]
  },
  {
   "cell_type": "code",
   "execution_count": 130,
   "metadata": {},
   "outputs": [],
   "source": [
    "Test_Probability = Model.predict_proba(Test)[:,1]"
   ]
  },
  {
   "cell_type": "markdown",
   "metadata": {},
   "source": [
    "**Importing Submission File which we have to Send for Solution Checking**"
   ]
  },
  {
   "cell_type": "code",
   "execution_count": 131,
   "metadata": {},
   "outputs": [],
   "source": [
    "Submission = pd.read_csv('Sample Submission.csv')\n",
    "\n",
    "Loan = pd.read_csv('Loan Approval Test.csv')"
   ]
  },
  {
   "cell_type": "markdown",
   "metadata": {},
   "source": [
    "**We want to Load ID Column from Test Data**"
   ]
  },
  {
   "cell_type": "code",
   "execution_count": 132,
   "metadata": {},
   "outputs": [],
   "source": [
    "Submission['Loan_ID'] = Loan['Loan_ID']\n",
    "\n",
    "Submission['Loan_Status'] = Test_Prediction"
   ]
  },
  {
   "cell_type": "code",
   "execution_count": 133,
   "metadata": {},
   "outputs": [
    {
     "name": "stdout",
     "output_type": "stream",
     "text": [
      "    Loan_ID  Loan_Status\n",
      "0  LP001015            1\n",
      "1  LP001022            1\n",
      "2  LP001031            1\n",
      "3  LP001035            1\n",
      "4  LP001051            1\n"
     ]
    }
   ],
   "source": [
    "print(Submission.head())"
   ]
  },
  {
   "cell_type": "markdown",
   "metadata": {},
   "source": [
    "**Replacing 0 and 1 with N and Y**"
   ]
  },
  {
   "cell_type": "code",
   "execution_count": 134,
   "metadata": {},
   "outputs": [],
   "source": [
    "Submission['Loan_Status'] = np.where(Submission['Loan_Status'] == 1, 'Y', 'N')"
   ]
  },
  {
   "cell_type": "code",
   "execution_count": 135,
   "metadata": {},
   "outputs": [
    {
     "name": "stdout",
     "output_type": "stream",
     "text": [
      "    Loan_ID Loan_Status\n",
      "0  LP001015           Y\n",
      "1  LP001022           Y\n",
      "2  LP001031           Y\n",
      "3  LP001035           Y\n",
      "4  LP001051           Y\n"
     ]
    }
   ],
   "source": [
    "print(Submission.head())"
   ]
  },
  {
   "cell_type": "markdown",
   "metadata": {},
   "source": [
    "**Saving Data in CSV Format**"
   ]
  },
  {
   "cell_type": "code",
   "execution_count": 136,
   "metadata": {},
   "outputs": [],
   "source": [
    "Submission.to_csv('XGBOOST.csv', index = False)"
   ]
  },
  {
   "cell_type": "markdown",
   "metadata": {},
   "source": [
    "# <a name=\"CON\">Conclusion</a>\n",
    "    \n",
    "**Suggestions for Imrprovement :**\n",
    "    \n",
    "1. **Add More Meaningful Features.**\n",
    "\n",
    "2. **Different Models with Different Subsets of Features.**\n",
    "\n",
    "3. **Visualize Independent vs Dependent Features to Find more Meaningful Patterns.**\n",
    "\n",
    "4. **Apply Ensemble Techniques (Combinations of Optimized and Tuned Hyperparameters)**\n",
    "\n",
    "5. **This Project was Good for Learning Point of View**\n",
    "\n",
    "***"
   ]
  },
  {
   "cell_type": "code",
   "execution_count": null,
   "metadata": {},
   "outputs": [],
   "source": []
  }
 ],
 "metadata": {
  "kernelspec": {
   "display_name": "Python 3",
   "language": "python",
   "name": "python3"
  },
  "language_info": {
   "codemirror_mode": {
    "name": "ipython",
    "version": 3
   },
   "file_extension": ".py",
   "mimetype": "text/x-python",
   "name": "python",
   "nbconvert_exporter": "python",
   "pygments_lexer": "ipython3",
   "version": "3.7.6"
  }
 },
 "nbformat": 4,
 "nbformat_minor": 4
}
